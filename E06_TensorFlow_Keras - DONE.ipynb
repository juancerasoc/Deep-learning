{
  "nbformat": 4,
  "nbformat_minor": 0,
  "metadata": {
    "colab": {
      "name": "Copia de E06-TensorFlow-Keras.ipynb",
      "version": "0.3.2",
      "views": {},
      "default_view": {},
      "provenance": [
        {
          "file_id": "https://github.com/albahnsen/AppliedDeepLearningClass/blob/master/exercises/E06-TensorFlow-Keras.ipynb",
          "timestamp": 1531477778194
        }
      ],
      "collapsed_sections": []
    },
    "kernelspec": {
      "display_name": "Python 3",
      "language": "python",
      "name": "python3"
    }
  },
  "cells": [
    {
      "metadata": {
        "id": "CACjwzGHxlTZ",
        "colab_type": "text"
      },
      "cell_type": "markdown",
      "source": [
        "# Exercise 06\n",
        "# TensorFlow and Keras \\\n",
        "## Made by: Juan Carlos Eraso & Carlos Quispe\n",
        "\n",
        "\n",
        "---"
      ]
    },
    {
      "metadata": {
        "id": "MFM0JgXOxlTb",
        "colab_type": "code",
        "colab": {
          "autoexec": {
            "startup": false,
            "wait_interval": 0
          }
        }
      },
      "cell_type": "code",
      "source": [
        "import numpy as np\n",
        "import pylab as pl\n",
        "from sklearn.datasets.samples_generator import make_moons\n",
        "\n",
        "%matplotlib inline\n",
        "\n",
        "# Functions for plotting 2D data and decision regions\n",
        "\n",
        "def plot_data(X, y):\n",
        "    y_unique = np.unique(y)\n",
        "    colors = pl.cm.rainbow(np.linspace(0.0, 1.0, y_unique.size))\n",
        "    for this_y, color in zip(y_unique, colors):\n",
        "        this_X = X[y == this_y]\n",
        "        pl.scatter(this_X[:, 0], this_X[:, 1],  c=color,\n",
        "                    alpha=0.5, edgecolor='k',\n",
        "                    label=\"Class %s\" % this_y)\n",
        "    pl.legend(loc=\"best\")\n",
        "    pl.title(\"Data\")\n",
        "\n",
        "def plot_decision_region(X, pred_fun):\n",
        "    min_x = np.min(X[:, 0])\n",
        "    max_x = np.max(X[:, 0])\n",
        "    min_y = np.min(X[:, 1])\n",
        "    max_y = np.max(X[:, 1])\n",
        "    min_x = min_x - (max_x - min_x) * 0.05\n",
        "    max_x = max_x + (max_x - min_x) * 0.05\n",
        "    min_y = min_y - (max_y - min_y) * 0.05\n",
        "    max_y = max_y + (max_y - min_y) * 0.05\n",
        "    x_vals = np.linspace(min_x, max_x, 30)\n",
        "    y_vals = np.linspace(min_y, max_y, 30)\n",
        "    XX, YY = np.meshgrid(x_vals, y_vals)\n",
        "    grid_r, grid_c = XX.shape\n",
        "    ZZ = np.zeros((grid_r, grid_c))\n",
        "    for i in range(grid_r):\n",
        "        for j in range(grid_c):\n",
        "            ZZ[i, j] = pred_fun(XX[i, j], YY[i, j])\n",
        "    pl.contourf(XX, YY, ZZ, 30, cmap = pl.cm.coolwarm, vmin= 0, vmax=1)\n",
        "    pl.colorbar()\n",
        "    pl.xlabel(\"x\")\n",
        "    pl.ylabel(\"y\")"
      ],
      "execution_count": 0,
      "outputs": []
    },
    {
      "metadata": {
        "id": "TcMgAz4IxlTg",
        "colab_type": "text"
      },
      "cell_type": "markdown",
      "source": [
        "### 1. Multilayer neural network in TensorFlow\n",
        "\n",
        "You need to create a neural network model in TF that is able to discriminate the two classes in the following dataset:\n"
      ]
    },
    {
      "metadata": {
        "id": "etP5r6ze1y_d",
        "colab_type": "text"
      },
      "cell_type": "markdown",
      "source": [
        "For this you will need to create a neural network with one hidden layer. You cannot use prebuilt models \n",
        "such as those in `tf.estimator`. **Hint**: extend the logistic regression example from the TensorFlow handout. \n",
        "\n",
        "Your answer must contain the following:\n",
        "* A visualization of the CG of the model.\n",
        "* A visualization of the decision region along with the test data.\n",
        "* A snapshot from TensorBoard that shows the evolution of the training and test loss."
      ]
    },
    {
      "metadata": {
        "id": "QuN9WcP6xlTh",
        "colab_type": "code",
        "colab": {
          "autoexec": {
            "startup": false,
            "wait_interval": 0
          },
          "base_uri": "https://localhost:8080/",
          "height": 172
        },
        "outputId": "86a7c9a1-2969-47bf-b99c-7ff42d27425f",
        "executionInfo": {
          "status": "ok",
          "timestamp": 1531714326898,
          "user_tz": 300,
          "elapsed": 3050,
          "user": {
            "displayName": "Juan Carlos Eraso",
            "photoUrl": "//lh3.googleusercontent.com/-S-vF252lc_w/AAAAAAAAAAI/AAAAAAAAAAs/o83TlZr9iPQ/s50-c-k-no/photo.jpg",
            "userId": "114375146705102855436"
          }
        }
      },
      "cell_type": "code",
      "source": [
        "X, Y = make_moons(n_samples=1000, noise= 0.2, random_state=3)\n",
        "x_train = X[:500]\n",
        "x_test  = X[500:]\n",
        "y_train = Y[:500]\n",
        "y_test  = Y[500:]\n",
        "\n",
        "pl.figure(figsize=(2, 2),)\n",
        "plot_data(x_train, y_train)\n"
      ],
      "execution_count": 123,
      "outputs": [
        {
          "output_type": "display_data",
          "data": {
            "image/png": "[encoded data removed]",
            "text/plain": [
              "<matplotlib.figure.Figure at 0x7f7779319e10>"
            ]
          },
          "metadata": {
            "tags": []
          }
        }
      ]
    },
    {
      "metadata": {
        "id": "HBuxx1I_krEt",
        "colab_type": "code",
        "colab": {
          "autoexec": {
            "startup": false,
            "wait_interval": 0
          }
        }
      },
      "cell_type": "code",
      "source": [
        "import tensorflow as tf\n",
        "\n",
        "sd=[[0,0],[1,1]]"
      ],
      "execution_count": 0,
      "outputs": []
    },
    {
      "metadata": {
        "id": "Y5q1e9yJ6hVV",
        "colab_type": "code",
        "colab": {
          "autoexec": {
            "startup": false,
            "wait_interval": 0
          }
        }
      },
      "cell_type": "code",
      "source": [
        "#Variables\n",
        "x = tf.placeholder(tf.float32,shape=[None,2])  \n",
        "y_hidden = tf.placeholder(tf.float32,shape=[None,2])\n",
        "y_true = tf.placeholder(tf.float32,shape=None)\n",
        "\n",
        "def aleatorio ():\n",
        "  r = np.random.uniform()\n",
        "  return r\n",
        "\n",
        "\n",
        "#WEIGHTS\n",
        "\n",
        "#w = tf.Variable([[aleatorio(),aleatorio()]],dtype=tf.float32,name='weights')\n",
        "w = tf.Variable(tf.random_uniform(shape=[1,2]),dtype=tf.float32,name='weights')\n",
        "w_hidden = tf.Variable(tf.random_uniform(shape=[1,2]), dtype=tf.float32, name='hidden_weights')\n",
        "\n",
        "#BIAS\n",
        "b = tf.Variable([[0,0]], dtype=tf.float32 ,name='bias')\n",
        "b_hidden = tf.Variable([[0,0]], dtype=tf.float32 ,name='bias_hidden')\n",
        "\n",
        "#y_pred\n",
        "y_pred = tf.matmul(w,tf.transpose(x)) + b\n",
        "y_pred2 = tf.matmul(w_hidden,tf.transpose(y_pred)) + b_hidden\n",
        "\n",
        "\n",
        "#LOSS FUNCTION\n",
        "loss = tf.nn.sigmoid_cross_entropy_with_logits(labels=y_true,logits=y_pred)\n",
        "loss = tf.reduce_mean(loss)\n",
        "\n",
        "#TRAIN\n",
        "learning_rate = 1.0\n",
        "optimizer = tf.train.GradientDescentOptimizer(learning_rate)\n",
        "train = optimizer.minimize(loss)\n",
        "\n",
        "init = tf.global_variables_initializer()\n",
        "\n",
        "sess.run(init)\n",
        "\n",
        "\n"
      ],
      "execution_count": 0,
      "outputs": []
    },
    {
      "metadata": {
        "id": "zrRMPgOA_d8a",
        "colab_type": "code",
        "colab": {
          "autoexec": {
            "startup": false,
            "wait_interval": 0
          }
        }
      },
      "cell_type": "code",
      "source": [
        "#TRAIN\n",
        "num_epochs = 50\n",
        "losses = []\n",
        "\n",
        "sess = tf.Session()\n",
        "sess.run(init) \n",
        "for step in range(num_epochs):\n",
        "  sess.run({x: x_train, y_true: y_train})\n",
        "  \n",
        " #TEST\n",
        "sess.run({x: x_test, y_true: y_test})\n",
        "  "
      ],
      "execution_count": 0,
      "outputs": []
    },
    {
      "metadata": {
        "id": "QNYAHFrkY8M8",
        "colab_type": "text"
      },
      "cell_type": "markdown",
      "source": [
        "### graph"
      ]
    },
    {
      "metadata": {
        "id": "3UFvZUCs9hq5",
        "colab_type": "code",
        "colab": {
          "autoexec": {
            "startup": false,
            "wait_interval": 0
          }
        }
      },
      "cell_type": "code",
      "source": [
        "num_epochs = 50\n",
        "losses = []\n",
        "\n",
        "\n",
        "sess = tf.Session()\n",
        "sess.run(init)      \n",
        "for step in range(num_epochs):\n",
        "  sess.run(train,{x: x_train, y_true: y_train})\n",
        "  if (step % 5 == 0):\n",
        "    losses.append(sess.run(loss, {x: X, y_true: Y}))\n",
        "                       \n",
        "pl.figure(figsize = (8,16/3))\n",
        "pl.plot(losses)"
      ],
      "execution_count": 0,
      "outputs": []
    },
    {
      "metadata": {
        "id": "4Qe2fPF5a9r4",
        "colab_type": "code",
        "colab": {
          "autoexec": {
            "startup": false,
            "wait_interval": 0
          }
        }
      },
      "cell_type": "code",
      "source": [
        ""
      ],
      "execution_count": 0,
      "outputs": []
    },
    {
      "metadata": {
        "id": "a7RQ4pYvCUFR",
        "colab_type": "code",
        "colab": {
          "autoexec": {
            "startup": false,
            "wait_interval": 0
          },
          "base_uri": "https://localhost:8080/",
          "height": 34
        },
        "outputId": "a04d9652-a4ea-45c9-ed0b-a247c8ebcc10",
        "executionInfo": {
          "status": "ok",
          "timestamp": 1531475653423,
          "user_tz": 300,
          "elapsed": 437,
          "user": {
            "displayName": "",
            "photoUrl": "",
            "userId": ""
          }
        }
      },
      "cell_type": "code",
      "source": [
        ""
      ],
      "execution_count": 0,
      "outputs": [
        {
          "output_type": "execute_result",
          "data": {
            "text/plain": [
              "<tf.Variable 'weights_51:0' shape=(1, 2) dtype=float32_ref>"
            ]
          },
          "metadata": {
            "tags": []
          },
          "execution_count": 91
        }
      ]
    },
    {
      "metadata": {
        "id": "zM5Kwx7kxlTo",
        "colab_type": "text"
      },
      "cell_type": "markdown",
      "source": [
        "### 2. Improving the Keras text classifier\n",
        "\n",
        "Your goal is to improve the performance of the text classifier in the Keras handout. This is are the things that you need to try:\n",
        "\n",
        "* Different activation functions for the hidden layer (https://keras.io/activations/)\n",
        "* Different optimizers (https://keras.io/optimizers/)\n",
        "* Add dropout between the hidden layer and the output layer (https://keras.io/layers/core/#dropout)\n",
        "* Different initializers for the dense layers (https://keras.io/initializers/)\n",
        "\n",
        "Try different combinations and report your findings at the end. Which configuration got the best accuracy in test?\n"
      ]
    },
    {
      "metadata": {
        "id": "QMGMD4ZQxlTp",
        "colab_type": "code",
        "colab": {
          "autoexec": {
            "startup": false,
            "wait_interval": 0
          }
        }
      },
      "cell_type": "code",
      "source": [
        "import numpy as np\n",
        "import pylab as pl\n",
        "from sklearn.datasets.samples_generator import make_moons\n",
        "import keras\n",
        "\n",
        "from keras.models import Sequential\n",
        "from keras.layers import Dense, Activation\n",
        "from keras import optimizers\n",
        "\n",
        "%matplotlib inline"
      ],
      "execution_count": 0,
      "outputs": []
    },
    {
      "metadata": {
        "id": "zUBRaJ7ISnEu",
        "colab_type": "code",
        "colab": {
          "autoexec": {
            "startup": false,
            "wait_interval": 0
          },
          "base_uri": "https://localhost:8080/",
          "height": 85
        },
        "outputId": "26a1507e-68e7-41de-c6ad-ca9a0d31bb63",
        "executionInfo": {
          "status": "ok",
          "timestamp": 1531699564858,
          "user_tz": 300,
          "elapsed": 1261,
          "user": {
            "displayName": "Juan Carlos Eraso",
            "photoUrl": "//lh3.googleusercontent.com/-S-vF252lc_w/AAAAAAAAAAI/AAAAAAAAAAs/o83TlZr9iPQ/s50-c-k-no/photo.jpg",
            "userId": "114375146705102855436"
          }
        }
      },
      "cell_type": "code",
      "source": [
        "from keras.datasets import reuters\n",
        "from keras.layers import Dropout\n",
        "from keras.preprocessing.text import Tokenizer\n",
        "\n",
        "max_words = 1000\n",
        "\n",
        "print('Loading data...')\n",
        "(x_train, y_train), (x_test, y_test) = reuters.load_data(num_words=max_words,\n",
        "                                                         test_split=0.2)\n",
        "print(len(x_train), 'train sequences')\n",
        "print(len(x_test), 'test sequences')\n",
        "\n",
        "num_classes = np.max(y_train) + 1\n",
        "print(num_classes, 'classes')"
      ],
      "execution_count": 62,
      "outputs": [
        {
          "output_type": "stream",
          "text": [
            "Loading data...\n",
            "8982 train sequences\n",
            "2246 test sequences\n",
            "46 classes\n"
          ],
          "name": "stdout"
        }
      ]
    },
    {
      "metadata": {
        "id": "P1_821r7zZn6",
        "colab_type": "code",
        "colab": {
          "autoexec": {
            "startup": false,
            "wait_interval": 0
          },
          "base_uri": "https://localhost:8080/",
          "height": 85
        },
        "outputId": "f33ed8d2-074b-4365-bfca-93bd0cf3de10",
        "executionInfo": {
          "status": "ok",
          "timestamp": 1531699567336,
          "user_tz": 300,
          "elapsed": 1345,
          "user": {
            "displayName": "Juan Carlos Eraso",
            "photoUrl": "//lh3.googleusercontent.com/-S-vF252lc_w/AAAAAAAAAAI/AAAAAAAAAAs/o83TlZr9iPQ/s50-c-k-no/photo.jpg",
            "userId": "114375146705102855436"
          }
        }
      },
      "cell_type": "code",
      "source": [
        "tokenizer = Tokenizer(num_words=max_words)\n",
        "x_train = tokenizer.sequences_to_matrix(x_train, mode='binary')\n",
        "x_test = tokenizer.sequences_to_matrix(x_test, mode='binary')\n",
        "print('x_train shape:', x_train.shape)\n",
        "print('x_test shape:', x_test.shape)\n",
        "\n",
        "y_train = keras.utils.to_categorical(y_train, num_classes)\n",
        "y_test = keras.utils.to_categorical(y_test, num_classes)\n",
        "print('y_train shape:', y_train.shape)\n",
        "print('y_test shape:', y_test.shape)"
      ],
      "execution_count": 63,
      "outputs": [
        {
          "output_type": "stream",
          "text": [
            "x_train shape: (8982, 1000)\n",
            "x_test shape: (2246, 1000)\n",
            "y_train shape: (8982, 46)\n",
            "y_test shape: (2246, 46)\n"
          ],
          "name": "stdout"
        }
      ]
    },
    {
      "metadata": {
        "id": "c_UnsggEz0bz",
        "colab_type": "code",
        "colab": {
          "autoexec": {
            "startup": false,
            "wait_interval": 0
          },
          "base_uri": "https://localhost:8080/",
          "height": 272
        },
        "outputId": "3b4442ea-7108-42aa-bca2-56a5897e20a6",
        "executionInfo": {
          "status": "ok",
          "timestamp": 1531699569182,
          "user_tz": 300,
          "elapsed": 972,
          "user": {
            "displayName": "Juan Carlos Eraso",
            "photoUrl": "//lh3.googleusercontent.com/-S-vF252lc_w/AAAAAAAAAAI/AAAAAAAAAAs/o83TlZr9iPQ/s50-c-k-no/photo.jpg",
            "userId": "114375146705102855436"
          }
        }
      },
      "cell_type": "code",
      "source": [
        "#MODEL\n",
        "model = Sequential()\n",
        "model.add(Dense(256, input_shape=(max_words,)))\n",
        "model.add(Activation('sigmoid'))\n",
        "model.add(Dense(num_classes))\n",
        "model.add(Activation('softmax'))\n",
        "model.summary(70)"
      ],
      "execution_count": 64,
      "outputs": [
        {
          "output_type": "stream",
          "text": [
            "______________________________________________________________________\n",
            "Layer (type)                   Output Shape                Param #    \n",
            "======================================================================\n",
            "dense_41 (Dense)               (None, 256)                 256256     \n",
            "______________________________________________________________________\n",
            "activation_31 (Activation)     (None, 256)                 0          \n",
            "______________________________________________________________________\n",
            "dense_42 (Dense)               (None, 46)                  11822      \n",
            "______________________________________________________________________\n",
            "activation_32 (Activation)     (None, 46)                  0          \n",
            "======================================================================\n",
            "Total params: 268,078\n",
            "Trainable params: 268,078\n",
            "Non-trainable params: 0\n",
            "______________________________________________________________________\n"
          ],
          "name": "stdout"
        }
      ]
    },
    {
      "metadata": {
        "id": "mnxucOp00R4q",
        "colab_type": "code",
        "colab": {
          "autoexec": {
            "startup": false,
            "wait_interval": 0
          },
          "base_uri": "https://localhost:8080/",
          "height": 255
        },
        "outputId": "a0d34d3f-34c8-4b17-9345-dd4fdec7ea62",
        "executionInfo": {
          "status": "ok",
          "timestamp": 1531699576864,
          "user_tz": 300,
          "elapsed": 5887,
          "user": {
            "displayName": "Juan Carlos Eraso",
            "photoUrl": "//lh3.googleusercontent.com/-S-vF252lc_w/AAAAAAAAAAI/AAAAAAAAAAs/o83TlZr9iPQ/s50-c-k-no/photo.jpg",
            "userId": "114375146705102855436"
          }
        }
      },
      "cell_type": "code",
      "source": [
        "\n",
        "\n",
        "#Cofigure training task\n",
        "model.compile(loss='categorical_crossentropy',\n",
        "              optimizer=SGD(),\n",
        "              metrics=['accuracy'])\n",
        "\n",
        "#TRAINING\n",
        "batch_size = 32\n",
        "epochs = 5\n",
        "history = model.fit(x_train, y_train,\n",
        "                    batch_size=batch_size,\n",
        "                    epochs=epochs,\n",
        "                    verbose=1,\n",
        "                    validation_split=0.1)\n",
        "\n",
        "\n",
        "#TESTING\n",
        "score = model.evaluate(x_test, y_test)\n",
        "print('Test score:', score[0])\n",
        "print('Test accuracy:', score[1])"
      ],
      "execution_count": 65,
      "outputs": [
        {
          "output_type": "stream",
          "text": [
            "Train on 8083 samples, validate on 899 samples\n",
            "Epoch 1/5\n",
            "8083/8083 [==============================] - 1s 183us/step - loss: 2.4542 - acc: 0.3630 - val_loss: 2.3069 - val_acc: 0.4260\n",
            "Epoch 2/5\n",
            "8083/8083 [==============================] - 1s 122us/step - loss: 2.1809 - acc: 0.4397 - val_loss: 2.1788 - val_acc: 0.4750\n",
            "Epoch 3/5\n",
            "8083/8083 [==============================] - 1s 115us/step - loss: 2.0693 - acc: 0.4876 - val_loss: 2.0863 - val_acc: 0.4905\n",
            "Epoch 4/5\n",
            "8083/8083 [==============================] - 1s 115us/step - loss: 1.9903 - acc: 0.5032 - val_loss: 2.0180 - val_acc: 0.5061\n",
            "Epoch 5/5\n",
            "8083/8083 [==============================] - 1s 115us/step - loss: 1.9276 - acc: 0.5163 - val_loss: 1.9608 - val_acc: 0.5150\n",
            "2246/2246 [==============================] - 0s 46us/step\n",
            "Test score: 1.9264659718116903\n",
            "Test accuracy: 0.5258236865804117\n"
          ],
          "name": "stdout"
        }
      ]
    },
    {
      "metadata": {
        "id": "wTw7vuyK3PZb",
        "colab_type": "text"
      },
      "cell_type": "markdown",
      "source": [
        "# CONFIGURATION WITH THE BEST ACCURACY\n",
        "\n"
      ]
    },
    {
      "metadata": {
        "id": "jZwNEr9-3Ph2",
        "colab_type": "text"
      },
      "cell_type": "markdown",
      "source": [
        "#### After ttying different combiantions in the following cell\n",
        "\n"
      ]
    },
    {
      "metadata": {
        "id": "IC8qxD2FTJw1",
        "colab_type": "code",
        "colab": {
          "autoexec": {
            "startup": false,
            "wait_interval": 0
          },
          "base_uri": "https://localhost:8080/",
          "height": 34
        },
        "outputId": "e3cfb1e8-0a58-4be4-d56a-77c7e480131d",
        "executionInfo": {
          "status": "ok",
          "timestamp": 1531699600329,
          "user_tz": 300,
          "elapsed": 655,
          "user": {
            "displayName": "Juan Carlos Eraso",
            "photoUrl": "//lh3.googleusercontent.com/-S-vF252lc_w/AAAAAAAAAAI/AAAAAAAAAAs/o83TlZr9iPQ/s50-c-k-no/photo.jpg",
            "userId": "114375146705102855436"
          }
        }
      },
      "cell_type": "code",
      "source": [
        "\n",
        "keras.initializers.Initializer()"
      ],
      "execution_count": 66,
      "outputs": [
        {
          "output_type": "execute_result",
          "data": {
            "text/plain": [
              "<keras.initializers.Initializer at 0x7f777f4dcb38>"
            ]
          },
          "metadata": {
            "tags": []
          },
          "execution_count": 66
        }
      ]
    },
    {
      "metadata": {
        "id": "1LaKLASPQxwV",
        "colab_type": "code",
        "colab": {
          "autoexec": {
            "startup": false,
            "wait_interval": 0
          },
          "base_uri": "https://localhost:8080/",
          "height": 564
        },
        "outputId": "58765f07-1f52-4ee7-b540-490a38c8fd71",
        "executionInfo": {
          "status": "ok",
          "timestamp": 1531701666300,
          "user_tz": 300,
          "elapsed": 8129,
          "user": {
            "displayName": "Juan Carlos Eraso",
            "photoUrl": "//lh3.googleusercontent.com/-S-vF252lc_w/AAAAAAAAAAI/AAAAAAAAAAs/o83TlZr9iPQ/s50-c-k-no/photo.jpg",
            "userId": "114375146705102855436"
          }
        }
      },
      "cell_type": "code",
      "source": [
        "#MODEL\n",
        "ini = keras.initializers.identity\n",
        "\n",
        "model = Sequential()\n",
        "model.add(Dense(256, input_shape=(max_words,),kernel_initializer=keras.initializers.random_normal()))\n",
        "model.add(Activation('selu'))\n",
        "model.add(Dropout(0.1))\n",
        "model.add(Dense(num_classes,kernel_initializer=keras.initializers.random_normal()))\n",
        "model.add(Activation('softmax'))\n",
        "model.summary(70)\n",
        "\n",
        "#Cofigure training task\n",
        "model.compile(loss='categorical_crossentropy', optimizer=keras.optimizers.RMSprop(),metrics=['accuracy'])\n",
        "\n",
        "#TRAINING\n",
        "batch_size = 32\n",
        "epochs = 5\n",
        "history = model.fit(x_train, y_train, batch_size=batch_size,  epochs=epochs,   verbose=1, validation_split=0.1)\n",
        "\n",
        "\n",
        "#TESTING\n",
        "score = model.evaluate(x_test, y_test)\n",
        "print('Test score:', score[0])\n",
        "print('Test accuracy:', score[1])\n"
      ],
      "execution_count": 84,
      "outputs": [
        {
          "output_type": "stream",
          "text": [
            "______________________________________________________________________\n",
            "Layer (type)                   Output Shape                Param #    \n",
            "======================================================================\n",
            "dense_70 (Dense)               (None, 256)                 256256     \n",
            "______________________________________________________________________\n",
            "activation_56 (Activation)     (None, 256)                 0          \n",
            "______________________________________________________________________\n",
            "dropout_3 (Dropout)            (None, 256)                 0          \n",
            "______________________________________________________________________\n",
            "dense_71 (Dense)               (None, 46)                  11822      \n",
            "______________________________________________________________________\n",
            "activation_57 (Activation)     (None, 46)                  0          \n",
            "======================================================================\n",
            "Total params: 268,078\n",
            "Trainable params: 268,078\n",
            "Non-trainable params: 0\n",
            "______________________________________________________________________\n",
            "Train on 8083 samples, validate on 899 samples\n",
            "Epoch 1/5\n",
            "8083/8083 [==============================] - 2s 237us/step - loss: 1.2338 - acc: 0.7223 - val_loss: 1.0175 - val_acc: 0.7775\n",
            "Epoch 2/5\n",
            "8083/8083 [==============================] - 1s 158us/step - loss: 0.7054 - acc: 0.8409 - val_loss: 0.9247 - val_acc: 0.7909\n",
            "Epoch 3/5\n",
            "7648/8083 [===========================>..] - ETA: 0s - loss: 0.5131 - acc: 0.8839"
          ],
          "name": "stdout"
        },
        {
          "output_type": "stream",
          "text": [
            "8083/8083 [==============================] - 1s 168us/step - loss: 0.5170 - acc: 0.8823 - val_loss: 0.9175 - val_acc: 0.7909\n",
            "Epoch 4/5\n",
            "8083/8083 [==============================] - 1s 168us/step - loss: 0.4118 - acc: 0.9037 - val_loss: 0.9140 - val_acc: 0.8053\n",
            "Epoch 5/5\n",
            "8083/8083 [==============================] - 1s 168us/step - loss: 0.3419 - acc: 0.9205 - val_loss: 0.9634 - val_acc: 0.8031\n",
            "2246/2246 [==============================] - 0s 52us/step\n",
            "Test score: 0.931067043187251\n",
            "Test accuracy: 0.7947462155472882\n"
          ],
          "name": "stdout"
        }
      ]
    },
    {
      "metadata": {
        "id": "p6WvjMreSOrd",
        "colab_type": "text"
      },
      "cell_type": "markdown",
      "source": [
        "#### The model wich has the highest accuracy was the one with:\n",
        "\n",
        "**-activation function**: selu for both layers \\\n",
        "**-optimizer**: RMSprop. \\\n",
        "**-Use Dropout**: between hidden layer and output layer wiht 0.1 of parameter \\\n",
        "**-Kernel initializer**:  random normal by dafault for both layers \\\n",
        "\n",
        "## accuracy obtained: ALMOST 80%\n",
        "\n"
      ]
    },
    {
      "metadata": {
        "id": "WnMYTlCZSiC9",
        "colab_type": "text"
      },
      "cell_type": "markdown",
      "source": [
        "selu"
      ]
    },
    {
      "metadata": {
        "id": "N3_Oip4-aStp",
        "colab_type": "code",
        "colab": {
          "autoexec": {
            "startup": false,
            "wait_interval": 0
          }
        }
      },
      "cell_type": "code",
      "source": [
        ""
      ],
      "execution_count": 0,
      "outputs": []
    }
  ]
}