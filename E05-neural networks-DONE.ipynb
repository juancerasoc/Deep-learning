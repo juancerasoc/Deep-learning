{
 "cells": [
  {
   "cell_type": "markdown",
   "metadata": {},
   "source": [
    "# DONE BY:\n",
    "## Juan Carlos Eraso, cod: 201127829\n",
    "## Carlos Quispe Castilla, cod: 201627368\n",
    "\n",
    "\n",
    "________________\n",
    "\n",
    "## Exercise 05\n",
    "\n",
    "# Neural networks\n",
    "\n",
    "\n",
    "## 4.1 Little Red Riding Hood Network\n",
    "\n",
    "Train a neural network to solve the  Little Red Riding Hood problem in sklern and Keras. Try the neural networ with different inputs and report the results.\n",
    "\n",
    "________________\n",
    "\n",
    "## 4.2 Boston House Price Prediction\n",
    "\n",
    "In the next questions we are going to work using the dataset *Boston*. This dataset measures the influence of socioeconomical factors on the price of several estates of the city of Boston. This dataset has 506 instances, each one characterized by 13 features:\n",
    "\n",
    "* CRIM - per capita crime rate by town\n",
    "* ZN - proportion of residential land zoned for lots over 25,000 sq.ft.\n",
    "* INDUS - proportion of non-retail business acres per town.\n",
    "* CHAS - Charles River dummy variable (1 if tract bounds river; 0 otherwise)\n",
    "* NOX - nitric oxides concentration (parts per 10 million)\n",
    "* RM - average number of rooms per dwelling\n",
    "* AGE - proportion of owner-occupied units built prior to 1940\n",
    "* DIS - weighted distances to five Boston employment centres\n",
    "* RAD - index of accessibility to radial highways\n",
    "* TAX - full-value property-tax rate per 10,000 USD\n",
    "* PTRATIO - pupil-teacher ratio by town\n",
    "* B - $1000(Bk - 0.63)^2$ where $Bk$ is the proportion of blacks by town\n",
    "* LSTAT - % lower status of the population\n",
    "\n",
    "Output variable:\n",
    "* MEDV - Median value of owner-occupied homes in 1000's USD\n",
    "\n",
    "**Note:** In this exercise we are going to predict the price of each estate, which is represented in the `MEDV` variable. It is important to remember that we are always aiming to predict `MEDV`, no matter which explanatory variables we are using. That means, in some cases we will use a subset of the 13 previously mentioned variables, while in other cases we will use all the 13 variables. But in no case we will change the dependent variable $y$.\n",
    "\n",
    "\n",
    "\n",
    "1. Load the dataset using `from sklearn.datasets import load_boston`.\n",
    "2. Create a DataFrame using the attribute `.data` from the loading function of Scikit-learn.\n",
    "3. Assign the columns of the DataFrame so they match the `.feature_names` attribute from the loading function of Scikit-learn. \n",
    "4. Assign a new column to the DataFrame which holds the value to predict, that means, the `.target` attribute of the loading function of Scikit-learn. The name of this columns must be `MEDV`.\n",
    "5. Use the function `.describe()` from Pandas for obtaining statistics about each column.\n",
    "\n",
    "## 4.3 Feature analysis:\n",
    "\n",
    "Using the DataFrame generated in the previous section:\n",
    "* Filter the dataset to just these features:\n",
    "     * Explanatory: 'LSTAT', 'INDUS', 'NOX', 'RM', 'AGE'\n",
    "     * Dependent: 'MEDV'.\n",
    "* Generate a scatter matrix among the features mentioned above using Pandas (`scatter_matrix`) or Seaborn (` pairplot`).\n",
    "     * Do you find any relationship between the features?\n",
    "* Generate the correlation matrix between these variables using `numpy.corrcoef`. Also include `MEDV`.\n",
    "     * Which characteristics are more correlated?\n",
    "     * BONUS: Visualize this matrix as heat map using Pandas, Matplotlib or Seaborn.\n",
    "\n",
    "## 4.4 Modeling linear and non linear relationships\n",
    "\n",
    "* Generate two new subsets filtering these characteristics:\n",
    "     * $D_1$:  $X = \\textit{'RM'}$, $y = \\textit{'MEDV'}$\n",
    "     * $D_2$:  $X = \\textit{'LSTAT'}$, $y = \\textit{'MEDV'}$\n",
    "* For each subset, generate a training partition and a test partition using a ratio of $ 70 \\% - 30 \\% $\n",
    "* Train a linear regression model on both subsets of data:\n",
    "     * Report the mean square error on the test set\n",
    "     * Print the values of $ w $ and $ w_0 $ of the regression equation\n",
    "     * Generate a graph where you visualize the line obtained by the regression model in conjunction with the training data and the test data\n",
    "* How does the model perform on $ D_1 $ and $ D_2 $? Why?\n",
    "\n",
    "## 4.5 Training a regression model\n",
    "\n",
    "* Generate a 70-30 partitioning of the data **using all the features**. (Do not include the dependent variable `MEDV`)\n",
    "* Train a linear regression model with the objective of predicting the output variable `MEDV`.\n",
    "     * Report the mean square error on the test set\n",
    "* Train a regression model using `MLPRegressor` in order to predict the output variable` MEDV`.\n",
    "     * Report the mean square error on the test set\n",
    "* Scale the data so that they have zero mean variance one per feature (only $ X $). You can use the following piece of code:\n",
    "\n",
    "```python\n",
    "from sklearn.preprocessing import StandardScaler\n",
    "\n",
    "sc_x = StandardScaler()\n",
    "sc_x.fit(X)\n",
    "X_train_s = sc_x.transform(X_train)\n",
    "X_test_s = sc_x.transform(X_test)\n",
    "```\n",
    "Check more information about `StandardScaler` [here](http://scikit-learn.org/stable/modules/generated/sklearn.preprocessing.StandardScaler.html).\n",
    "\n",
    "* Train the following models:\n",
    "     1. Train a linear regression model using the scaled data.\n",
    "         * Report the mean square error on the test set\n",
    "     2. Train a regression model using a 2-layer MultiLayer Perceptron (128 neurons in the first and 512 in the second) and with the **scaled data**.\n",
    "         * Report the mean square error on the test set\n",
    "     3. Which model has better performance? Why?"
   ]
  },
  {
   "cell_type": "markdown",
   "metadata": {},
   "source": [
    "## EXERCISE # 4.1"
   ]
  },
  {
   "cell_type": "code",
   "execution_count": 12,
   "metadata": {},
   "outputs": [
    {
     "data": {
      "text/plain": [
       "MLPClassifier(activation='relu', alpha=1e-05, batch_size='auto', beta_1=0.9,\n",
       "       beta_2=0.999, early_stopping=False, epsilon=1e-08,\n",
       "       hidden_layer_sizes=(4, 2), learning_rate='constant',\n",
       "       learning_rate_init=0.001, max_iter=200, momentum=0.9,\n",
       "       nesterovs_momentum=True, power_t=0.5, random_state=1, shuffle=True,\n",
       "       solver='lbfgs', tol=0.0001, validation_fraction=0.1, verbose=False,\n",
       "       warm_start=False)"
      ]
     },
     "execution_count": 12,
     "metadata": {},
     "output_type": "execute_result"
    }
   ],
   "source": [
    "#First, we build the NN from sklearn\n",
    "\n",
    "import numpy as np\n",
    "from sklearn.neural_network import MLPClassifier\n",
    "\n",
    "#Then create the inputs to train the model\n",
    "X=np.array([(1,1,0,0),(0,1,1,0),(0,0,0,1)])\n",
    "y=np.array([(1,0,0,0),(0,0,1,1),(0,1,1,0)])\n",
    "\n",
    "#Finally, we use multi-layer perceptrons to optimize the log-loss function\n",
    "clf = MLPClassifier(solver='lbfgs', alpha=1e-5,hidden_layer_sizes=(4, 2), random_state=1)\n",
    "\n",
    "#And we train it\n",
    "clf.fit(X, y)"
   ]
  },
  {
   "cell_type": "code",
   "execution_count": 15,
   "metadata": {},
   "outputs": [
    {
     "data": {
      "text/plain": [
       "array([[0, 0, 1, 1],\n",
       "       [0, 1, 1, 0]])"
      ]
     },
     "execution_count": 15,
     "metadata": {},
     "output_type": "execute_result"
    }
   ],
   "source": [
    "#take a look if the outcomes are close to reallity\n",
    "clf.predict([[0,1,1,0], [0,0,0,1]])\n",
    "\n",
    "#Big Ears  Big Teeth  Handsome  Wrinkled\n",
    "#Scream  Hug  Food  Kiss"
   ]
  },
  {
   "cell_type": "code",
   "execution_count": 16,
   "metadata": {},
   "outputs": [
    {
     "data": {
      "text/plain": [
       "array([[0, 1, 1, 0],\n",
       "       [0, 0, 1, 0],\n",
       "       [0, 0, 1, 0]])"
      ]
     },
     "execution_count": 16,
     "metadata": {},
     "output_type": "execute_result"
    }
   ],
   "source": [
    "#and try with different combinations to see its outcomes\n",
    "clf.predict([[1,1,1,1], [0,0,0,0], [1,1,1,0]])\n",
    "\n",
    "#Big Ears  Big Teeth  Handsome  Wrinkled\n",
    "#Scream  Hug  Food  Kiss"
   ]
  },
  {
   "cell_type": "code",
   "execution_count": 22,
   "metadata": {},
   "outputs": [],
   "source": [
    "#Then, we try to solve the same problem with Keras\n",
    "\n",
    "from keras.models import Sequential\n",
    "from keras.layers import Dense, Activation\n",
    "\n",
    "model = Sequential()\n",
    "\n",
    "model.add(Dense(units=3, input_dim=4))\n",
    "model.add(Activation('relu'))\n",
    "model.add(Dense(units=4))\n",
    "model.add(Activation('sigmoid'))"
   ]
  },
  {
   "cell_type": "code",
   "execution_count": 23,
   "metadata": {},
   "outputs": [
    {
     "name": "stdout",
     "output_type": "stream",
     "text": [
      "______________________________________________________________________\n",
      "Layer (type)                   Output Shape                Param #    \n",
      "======================================================================\n",
      "dense_5 (Dense)                (None, 3)                   15         \n",
      "______________________________________________________________________\n",
      "activation_5 (Activation)      (None, 3)                   0          \n",
      "______________________________________________________________________\n",
      "dense_6 (Dense)                (None, 4)                   16         \n",
      "______________________________________________________________________\n",
      "activation_6 (Activation)      (None, 4)                   0          \n",
      "======================================================================\n",
      "Total params: 31\n",
      "Trainable params: 31\n",
      "Non-trainable params: 0\n",
      "______________________________________________________________________\n"
     ]
    }
   ],
   "source": [
    "model.summary(70)"
   ]
  },
  {
   "cell_type": "code",
   "execution_count": 24,
   "metadata": {},
   "outputs": [],
   "source": [
    "from keras.optimizers import SGD\n",
    "model.compile(loss = 'binary_crossentropy',\n",
    "              optimizer = SGD(lr=0.01, momentum=0.9, decay=0.0, nesterov=False),\n",
    "              metrics = ['accuracy'])"
   ]
  },
  {
   "cell_type": "code",
   "execution_count": 25,
   "metadata": {},
   "outputs": [
    {
     "name": "stdout",
     "output_type": "stream",
     "text": [
      "Epoch 1/100\n",
      " - 1s - loss: 0.7511 - acc: 0.4167\n",
      "Epoch 2/100\n",
      " - 0s - loss: 0.7504 - acc: 0.4167\n",
      "Epoch 3/100\n",
      " - 0s - loss: 0.7491 - acc: 0.4167\n",
      "Epoch 4/100\n",
      " - 0s - loss: 0.7472 - acc: 0.5000\n",
      "Epoch 5/100\n",
      " - 0s - loss: 0.7448 - acc: 0.5000\n",
      "Epoch 6/100\n",
      " - 0s - loss: 0.7420 - acc: 0.5000\n",
      "Epoch 7/100\n",
      " - 0s - loss: 0.7389 - acc: 0.5000\n",
      "Epoch 8/100\n",
      " - 0s - loss: 0.7354 - acc: 0.5000\n",
      "Epoch 9/100\n",
      " - 0s - loss: 0.7317 - acc: 0.5000\n",
      "Epoch 10/100\n",
      " - 0s - loss: 0.7277 - acc: 0.5000\n",
      "Epoch 11/100\n",
      " - 0s - loss: 0.7236 - acc: 0.5000\n",
      "Epoch 12/100\n",
      " - 0s - loss: 0.7193 - acc: 0.5000\n",
      "Epoch 13/100\n",
      " - 0s - loss: 0.7148 - acc: 0.5000\n",
      "Epoch 14/100\n",
      " - 0s - loss: 0.7103 - acc: 0.5000\n",
      "Epoch 15/100\n",
      " - 0s - loss: 0.7057 - acc: 0.5000\n",
      "Epoch 16/100\n",
      " - 0s - loss: 0.7011 - acc: 0.5833\n",
      "Epoch 17/100\n",
      " - 0s - loss: 0.6964 - acc: 0.5833\n",
      "Epoch 18/100\n",
      " - 0s - loss: 0.6917 - acc: 0.5833\n",
      "Epoch 19/100\n",
      " - 0s - loss: 0.6871 - acc: 0.5833\n",
      "Epoch 20/100\n",
      " - 0s - loss: 0.6824 - acc: 0.5833\n",
      "Epoch 21/100\n",
      " - 0s - loss: 0.6777 - acc: 0.5833\n",
      "Epoch 22/100\n",
      " - 0s - loss: 0.6731 - acc: 0.5833\n",
      "Epoch 23/100\n",
      " - 0s - loss: 0.6685 - acc: 0.5833\n",
      "Epoch 24/100\n",
      " - 0s - loss: 0.6640 - acc: 0.5833\n",
      "Epoch 25/100\n",
      " - 0s - loss: 0.6595 - acc: 0.5833\n",
      "Epoch 26/100\n",
      " - 0s - loss: 0.6550 - acc: 0.5833\n",
      "Epoch 27/100\n",
      " - 0s - loss: 0.6507 - acc: 0.5833\n",
      "Epoch 28/100\n",
      " - 0s - loss: 0.6463 - acc: 0.5833\n",
      "Epoch 29/100\n",
      " - 0s - loss: 0.6420 - acc: 0.5833\n",
      "Epoch 30/100\n",
      " - 0s - loss: 0.6378 - acc: 0.5833\n",
      "Epoch 31/100\n",
      " - 0s - loss: 0.6337 - acc: 0.5833\n",
      "Epoch 32/100\n",
      " - 0s - loss: 0.6295 - acc: 0.5833\n",
      "Epoch 33/100\n",
      " - 0s - loss: 0.6255 - acc: 0.5833\n",
      "Epoch 34/100\n",
      " - 0s - loss: 0.6215 - acc: 0.5833\n",
      "Epoch 35/100\n",
      " - 0s - loss: 0.6176 - acc: 0.5833\n",
      "Epoch 36/100\n",
      " - 0s - loss: 0.6137 - acc: 0.5833\n",
      "Epoch 37/100\n",
      " - 0s - loss: 0.6098 - acc: 0.5833\n",
      "Epoch 38/100\n",
      " - 0s - loss: 0.6060 - acc: 0.5833\n",
      "Epoch 39/100\n",
      " - 0s - loss: 0.6023 - acc: 0.5833\n",
      "Epoch 40/100\n",
      " - 0s - loss: 0.5986 - acc: 0.5833\n",
      "Epoch 41/100\n",
      " - 0s - loss: 0.5950 - acc: 0.5833\n",
      "Epoch 42/100\n",
      " - 0s - loss: 0.5914 - acc: 0.5833\n",
      "Epoch 43/100\n",
      " - 0s - loss: 0.5878 - acc: 0.6667\n",
      "Epoch 44/100\n",
      " - 0s - loss: 0.5843 - acc: 0.6667\n",
      "Epoch 45/100\n",
      " - 0s - loss: 0.5808 - acc: 0.7500\n",
      "Epoch 46/100\n",
      " - 0s - loss: 0.5773 - acc: 0.7500\n",
      "Epoch 47/100\n",
      " - 0s - loss: 0.5739 - acc: 0.7500\n",
      "Epoch 48/100\n",
      " - 0s - loss: 0.5705 - acc: 0.7500\n",
      "Epoch 49/100\n",
      " - 0s - loss: 0.5672 - acc: 0.7500\n",
      "Epoch 50/100\n",
      " - 0s - loss: 0.5639 - acc: 0.7500\n",
      "Epoch 51/100\n",
      " - 0s - loss: 0.5606 - acc: 0.7500\n",
      "Epoch 52/100\n",
      " - 0s - loss: 0.5573 - acc: 0.7500\n",
      "Epoch 53/100\n",
      " - 0s - loss: 0.5541 - acc: 0.7500\n",
      "Epoch 54/100\n",
      " - 0s - loss: 0.5509 - acc: 0.7500\n",
      "Epoch 55/100\n",
      " - 0s - loss: 0.5477 - acc: 0.8333\n",
      "Epoch 56/100\n",
      " - 0s - loss: 0.5445 - acc: 0.8333\n",
      "Epoch 57/100\n",
      " - 0s - loss: 0.5414 - acc: 0.8333\n",
      "Epoch 58/100\n",
      " - 0s - loss: 0.5382 - acc: 0.8333\n",
      "Epoch 59/100\n",
      " - 0s - loss: 0.5351 - acc: 0.8333\n",
      "Epoch 60/100\n",
      " - 0s - loss: 0.5320 - acc: 0.8333\n",
      "Epoch 61/100\n",
      " - 0s - loss: 0.5289 - acc: 0.8333\n",
      "Epoch 62/100\n",
      " - 0s - loss: 0.5258 - acc: 0.8333\n",
      "Epoch 63/100\n",
      " - 0s - loss: 0.5228 - acc: 0.8333\n",
      "Epoch 64/100\n",
      " - 0s - loss: 0.5204 - acc: 0.8333\n",
      "Epoch 65/100\n",
      " - 0s - loss: 0.5183 - acc: 0.8333\n",
      "Epoch 66/100\n",
      " - 0s - loss: 0.5161 - acc: 0.8333\n",
      "Epoch 67/100\n",
      " - 0s - loss: 0.5137 - acc: 0.8333\n",
      "Epoch 68/100\n",
      " - 0s - loss: 0.5113 - acc: 0.8333\n",
      "Epoch 69/100\n",
      " - 0s - loss: 0.5088 - acc: 0.8333\n",
      "Epoch 70/100\n",
      " - 0s - loss: 0.5063 - acc: 0.8333\n",
      "Epoch 71/100\n",
      " - 0s - loss: 0.5037 - acc: 0.8333\n",
      "Epoch 72/100\n",
      " - 0s - loss: 0.5011 - acc: 0.8333\n",
      "Epoch 73/100\n",
      " - 0s - loss: 0.4984 - acc: 0.8333\n",
      "Epoch 74/100\n",
      " - 0s - loss: 0.4957 - acc: 0.8333\n",
      "Epoch 75/100\n",
      " - 0s - loss: 0.4929 - acc: 0.8333\n",
      "Epoch 76/100\n",
      " - 0s - loss: 0.4902 - acc: 0.9167\n",
      "Epoch 77/100\n",
      " - 0s - loss: 0.4874 - acc: 0.9167\n",
      "Epoch 78/100\n",
      " - 0s - loss: 0.4852 - acc: 0.9167\n",
      "Epoch 79/100\n",
      " - 0s - loss: 0.4831 - acc: 0.9167\n",
      "Epoch 80/100\n",
      " - 0s - loss: 0.4808 - acc: 0.9167\n",
      "Epoch 81/100\n",
      " - 0s - loss: 0.4785 - acc: 0.9167\n",
      "Epoch 82/100\n",
      " - 0s - loss: 0.4761 - acc: 0.9167\n",
      "Epoch 83/100\n",
      " - 0s - loss: 0.4736 - acc: 0.9167\n",
      "Epoch 84/100\n",
      " - 0s - loss: 0.4711 - acc: 0.9167\n",
      "Epoch 85/100\n",
      " - 0s - loss: 0.4686 - acc: 0.9167\n",
      "Epoch 86/100\n",
      " - 0s - loss: 0.4659 - acc: 0.9167\n",
      "Epoch 87/100\n",
      " - 0s - loss: 0.4633 - acc: 0.9167\n",
      "Epoch 88/100\n",
      " - 0s - loss: 0.4611 - acc: 0.9167\n",
      "Epoch 89/100\n",
      " - 0s - loss: 0.4589 - acc: 0.9167\n",
      "Epoch 90/100\n",
      " - 0s - loss: 0.4568 - acc: 0.9167\n",
      "Epoch 91/100\n",
      " - 0s - loss: 0.4546 - acc: 0.9167\n",
      "Epoch 92/100\n",
      " - 0s - loss: 0.4524 - acc: 0.9167\n",
      "Epoch 93/100\n",
      " - 0s - loss: 0.4502 - acc: 0.9167\n",
      "Epoch 94/100\n",
      " - 0s - loss: 0.4479 - acc: 0.9167\n",
      "Epoch 95/100\n",
      " - 0s - loss: 0.4455 - acc: 0.9167\n",
      "Epoch 96/100\n",
      " - 0s - loss: 0.4431 - acc: 0.9167\n",
      "Epoch 97/100\n",
      " - 0s - loss: 0.4407 - acc: 0.9167\n",
      "Epoch 98/100\n",
      " - 0s - loss: 0.4386 - acc: 0.9167\n",
      "Epoch 99/100\n",
      " - 0s - loss: 0.4365 - acc: 0.9167\n",
      "Epoch 100/100\n",
      " - 0s - loss: 0.4342 - acc: 0.9167\n"
     ]
    },
    {
     "data": {
      "text/plain": [
       "<keras.callbacks.History at 0x1b538ec10f0>"
      ]
     },
     "execution_count": 25,
     "metadata": {},
     "output_type": "execute_result"
    }
   ],
   "source": [
    "model.fit(X, y, epochs=100, verbose=2)"
   ]
  },
  {
   "cell_type": "code",
   "execution_count": 35,
   "metadata": {},
   "outputs": [
    {
     "data": {
      "text/plain": [
       "array([[[0., 1., 1., 0.]]], dtype=float32)"
      ]
     },
     "execution_count": 35,
     "metadata": {},
     "output_type": "execute_result"
    }
   ],
   "source": [
    "#take a look if the outcomes are close to reallity\n",
    "\n",
    "#Big Ears  Big Teeth  Handsome  Wrinkled\n",
    "#Scream  Hug  Food  Kiss\n",
    "a=model.predict(np.array([[0,0,0,1]]))\n",
    "np.round([a])"
   ]
  },
  {
   "cell_type": "code",
   "execution_count": 36,
   "metadata": {},
   "outputs": [
    {
     "data": {
      "text/plain": [
       "array([[[1., 0., 0., 0.]]], dtype=float32)"
      ]
     },
     "execution_count": 36,
     "metadata": {},
     "output_type": "execute_result"
    }
   ],
   "source": [
    "#take a look if the outcomes are close to reallity\n",
    "\n",
    "#Big Ears  Big Teeth  Handsome  Wrinkled\n",
    "#Scream  Hug  Food  Kiss\n",
    "a=model.predict(np.array([[1,1,0,0]]))\n",
    "np.round([a])"
   ]
  },
  {
   "cell_type": "code",
   "execution_count": 37,
   "metadata": {},
   "outputs": [
    {
     "data": {
      "text/plain": [
       "array([[[1., 0., 0., 0.]]], dtype=float32)"
      ]
     },
     "execution_count": 37,
     "metadata": {},
     "output_type": "execute_result"
    }
   ],
   "source": [
    "#and try with different combinations to see its outcomes\n",
    "\n",
    "#Big Ears  Big Teeth  Handsome  Wrinkled\n",
    "#Scream  Hug  Food  Kiss\n",
    "a=model.predict(np.array([[1,1,1,1]]))\n",
    "np.round([a])"
   ]
  },
  {
   "cell_type": "code",
   "execution_count": 38,
   "metadata": {},
   "outputs": [
    {
     "data": {
      "text/plain": [
       "array([[[0., 0., 1., 0.]]], dtype=float32)"
      ]
     },
     "execution_count": 38,
     "metadata": {},
     "output_type": "execute_result"
    }
   ],
   "source": [
    "#and try with different combinations to see its outcomes\n",
    "\n",
    "#Big Ears  Big Teeth  Handsome  Wrinkled\n",
    "#Scream  Hug  Food  Kiss\n",
    "a=model.predict(np.array([[0,0,0,0]]))\n",
    "np.round([a])"
   ]
  },
  {
   "cell_type": "markdown",
   "metadata": {},
   "source": [
    "## EXERCISE # 4.2"
   ]
  },
  {
   "cell_type": "code",
   "execution_count": 7,
   "metadata": {},
   "outputs": [],
   "source": [
    "import pandas as pd\n",
    "from sklearn.datasets import load_boston\n",
    "\n",
    "#We import the dataset\n",
    "Boston = load_boston()\n",
    "boston=pd.DataFrame(Boston.data)"
   ]
  },
  {
   "cell_type": "code",
   "execution_count": 8,
   "metadata": {},
   "outputs": [
    {
     "name": "stdout",
     "output_type": "stream",
     "text": [
      "      CRIM    ZN  INDUS  CHAS    NOX     RM   AGE     DIS  RAD    TAX  \\\n",
      "0  0.00632  18.0   2.31   0.0  0.538  6.575  65.2  4.0900  1.0  296.0   \n",
      "1  0.02731   0.0   7.07   0.0  0.469  6.421  78.9  4.9671  2.0  242.0   \n",
      "2  0.02729   0.0   7.07   0.0  0.469  7.185  61.1  4.9671  2.0  242.0   \n",
      "3  0.03237   0.0   2.18   0.0  0.458  6.998  45.8  6.0622  3.0  222.0   \n",
      "4  0.06905   0.0   2.18   0.0  0.458  7.147  54.2  6.0622  3.0  222.0   \n",
      "\n",
      "   PTRATIO       B  LSTAT  \n",
      "0     15.3  396.90   4.98  \n",
      "1     17.8  396.90   9.14  \n",
      "2     17.8  392.83   4.03  \n",
      "3     18.7  394.63   2.94  \n",
      "4     18.7  396.90   5.33  \n"
     ]
    }
   ],
   "source": [
    "#We import the column names\n",
    "boston.columns = Boston.feature_names\n",
    "print(boston.head())"
   ]
  },
  {
   "cell_type": "code",
   "execution_count": 9,
   "metadata": {},
   "outputs": [
    {
     "name": "stdout",
     "output_type": "stream",
     "text": [
      "      CRIM    ZN  INDUS  CHAS    NOX     RM   AGE     DIS  RAD    TAX  \\\n",
      "0  0.00632  18.0   2.31   0.0  0.538  6.575  65.2  4.0900  1.0  296.0   \n",
      "1  0.02731   0.0   7.07   0.0  0.469  6.421  78.9  4.9671  2.0  242.0   \n",
      "2  0.02729   0.0   7.07   0.0  0.469  7.185  61.1  4.9671  2.0  242.0   \n",
      "3  0.03237   0.0   2.18   0.0  0.458  6.998  45.8  6.0622  3.0  222.0   \n",
      "4  0.06905   0.0   2.18   0.0  0.458  7.147  54.2  6.0622  3.0  222.0   \n",
      "\n",
      "   PTRATIO       B  LSTAT  MEDV  \n",
      "0     15.3  396.90   4.98  24.0  \n",
      "1     17.8  396.90   9.14  21.6  \n",
      "2     17.8  392.83   4.03  34.7  \n",
      "3     18.7  394.63   2.94  33.4  \n",
      "4     18.7  396.90   5.33  36.2  \n"
     ]
    }
   ],
   "source": [
    "#And the dependent variable\n",
    "boston['MEDV'] = Boston.target\n",
    "print(boston.head())"
   ]
  },
  {
   "cell_type": "code",
   "execution_count": 10,
   "metadata": {},
   "outputs": [
    {
     "name": "stdout",
     "output_type": "stream",
     "text": [
      "             CRIM          ZN       INDUS        CHAS         NOX          RM  \\\n",
      "count  506.000000  506.000000  506.000000  506.000000  506.000000  506.000000   \n",
      "mean     3.593761   11.363636   11.136779    0.069170    0.554695    6.284634   \n",
      "std      8.596783   23.322453    6.860353    0.253994    0.115878    0.702617   \n",
      "min      0.006320    0.000000    0.460000    0.000000    0.385000    3.561000   \n",
      "25%      0.082045    0.000000    5.190000    0.000000    0.449000    5.885500   \n",
      "50%      0.256510    0.000000    9.690000    0.000000    0.538000    6.208500   \n",
      "75%      3.647423   12.500000   18.100000    0.000000    0.624000    6.623500   \n",
      "max     88.976200  100.000000   27.740000    1.000000    0.871000    8.780000   \n",
      "\n",
      "              AGE         DIS         RAD         TAX     PTRATIO           B  \\\n",
      "count  506.000000  506.000000  506.000000  506.000000  506.000000  506.000000   \n",
      "mean    68.574901    3.795043    9.549407  408.237154   18.455534  356.674032   \n",
      "std     28.148861    2.105710    8.707259  168.537116    2.164946   91.294864   \n",
      "min      2.900000    1.129600    1.000000  187.000000   12.600000    0.320000   \n",
      "25%     45.025000    2.100175    4.000000  279.000000   17.400000  375.377500   \n",
      "50%     77.500000    3.207450    5.000000  330.000000   19.050000  391.440000   \n",
      "75%     94.075000    5.188425   24.000000  666.000000   20.200000  396.225000   \n",
      "max    100.000000   12.126500   24.000000  711.000000   22.000000  396.900000   \n",
      "\n",
      "            LSTAT        MEDV  \n",
      "count  506.000000  506.000000  \n",
      "mean    12.653063   22.532806  \n",
      "std      7.141062    9.197104  \n",
      "min      1.730000    5.000000  \n",
      "25%      6.950000   17.025000  \n",
      "50%     11.360000   21.200000  \n",
      "75%     16.955000   25.000000  \n",
      "max     37.970000   50.000000  \n"
     ]
    }
   ],
   "source": [
    "#We use the function 'describe' for obtaining statistics about every variable\n",
    "\n",
    "from sklearn.model_selection import train_test_split\n",
    "import numpy as np\n",
    "print(boston.describe())"
   ]
  },
  {
   "cell_type": "code",
   "execution_count": 11,
   "metadata": {},
   "outputs": [
    {
     "name": "stdout",
     "output_type": "stream",
     "text": [
      "Training dataset shape (X, y): (404, 13) (404,)\n"
     ]
    }
   ],
   "source": [
    "#After that, we can create train/test datasets\n",
    "\n",
    "from sklearn.model_selection import train_test_split\n",
    "\n",
    "y = boston['MEDV']\n",
    "X = boston.drop('MEDV', axis=1)\n",
    "\n",
    "X_train, X_test, y_train, y_test = train_test_split(X, y, test_size=0.2, random_state=1)\n",
    "print(\"Training dataset shape (X, y):\", X_train.shape, y_train.shape)"
   ]
  },
  {
   "cell_type": "code",
   "execution_count": 99,
   "metadata": {},
   "outputs": [
    {
     "data": {
      "text/plain": [
       "MLPRegressor(activation='logistic', alpha=0.0001, batch_size='auto',\n",
       "       beta_1=0.9, beta_2=0.999, early_stopping=False, epsilon=1e-08,\n",
       "       hidden_layer_sizes=(20,), learning_rate='constant',\n",
       "       learning_rate_init=0.001, max_iter=200, momentum=0.9,\n",
       "       nesterovs_momentum=True, power_t=0.5, random_state=None,\n",
       "       shuffle=True, solver='lbfgs', tol=0.0001, validation_fraction=0.1,\n",
       "       verbose=False, warm_start=False)"
      ]
     },
     "execution_count": 99,
     "metadata": {},
     "output_type": "execute_result"
    }
   ],
   "source": [
    "#And star to set the NN MLPRegresor model\n",
    "\n",
    "n_hidden_neurons = 20\n",
    "nn = MLPRegressor(activation='logistic', solver='lbfgs', hidden_layer_sizes=(n_hidden_neurons,))\n",
    "nn"
   ]
  },
  {
   "cell_type": "code",
   "execution_count": 100,
   "metadata": {},
   "outputs": [
    {
     "data": {
      "text/plain": [
       "MLPRegressor(activation='logistic', alpha=0.0001, batch_size='auto',\n",
       "       beta_1=0.9, beta_2=0.999, early_stopping=False, epsilon=1e-08,\n",
       "       hidden_layer_sizes=(20,), learning_rate='constant',\n",
       "       learning_rate_init=0.001, max_iter=200, momentum=0.9,\n",
       "       nesterovs_momentum=True, power_t=0.5, random_state=None,\n",
       "       shuffle=True, solver='lbfgs', tol=0.0001, validation_fraction=0.1,\n",
       "       verbose=False, warm_start=False)"
      ]
     },
     "execution_count": 100,
     "metadata": {},
     "output_type": "execute_result"
    }
   ],
   "source": [
    "#We fit the train dataset\n",
    "\n",
    "nn.fit(X_train, y_train)"
   ]
  },
  {
   "cell_type": "code",
   "execution_count": 101,
   "metadata": {},
   "outputs": [
    {
     "name": "stdout",
     "output_type": "stream",
     "text": [
      "Training MSE: 63.47513584170388\n",
      "Testing MSE:  91.97685529595867\n"
     ]
    }
   ],
   "source": [
    "#And look for performance indicators\n",
    "\n",
    "from sklearn.metrics import mean_squared_error\n",
    "train_mse = mean_squared_error(y_train, nn.predict(X_train))\n",
    "test_mse = mean_squared_error(y_test, nn.predict(X_test))\n",
    "print(\"Training_MSE:\", train_mse)\n",
    "print(\"Testing_MSE: \", test_mse)"
   ]
  },
  {
   "cell_type": "code",
   "execution_count": 107,
   "metadata": {},
   "outputs": [
    {
     "data": {
      "text/plain": [
       "CRIM         1.13081\n",
       "ZN           0.00000\n",
       "INDUS        8.14000\n",
       "CHAS         0.00000\n",
       "NOX          0.53800\n",
       "RM           5.71300\n",
       "AGE         94.10000\n",
       "DIS          4.23300\n",
       "RAD          4.00000\n",
       "TAX        307.00000\n",
       "PTRATIO     21.00000\n",
       "B          360.17000\n",
       "LSTAT       22.60000\n",
       "MEDV        12.70000\n",
       "Name: 30, dtype: float64"
      ]
     },
     "execution_count": 107,
     "metadata": {},
     "output_type": "execute_result"
    }
   ],
   "source": [
    "#Then, we retrieve an observation to do validation\n",
    "\n",
    "boston.iloc[30]"
   ]
  },
  {
   "cell_type": "code",
   "execution_count": 118,
   "metadata": {},
   "outputs": [
    {
     "data": {
      "text/plain": [
       "array([19.11016091])"
      ]
     },
     "execution_count": 118,
     "metadata": {},
     "output_type": "execute_result"
    }
   ],
   "source": [
    "#Finally, we review if the outcomes of some close observations from real dataset are close to the 'Y' real ones \n",
    "b=np.array([(1.13,0,8.14,0,0.5,5.7,94.1,4.2,4,307,21,360,12)])\n",
    "b\n",
    "nn.predict(b)"
   ]
  },
  {
   "cell_type": "markdown",
   "metadata": {},
   "source": [
    "## EXERCISE 4.3"
   ]
  },
  {
   "cell_type": "code",
   "execution_count": 41,
   "metadata": {
    "scrolled": true
   },
   "outputs": [
    {
     "name": "stdout",
     "output_type": "stream",
     "text": [
      "Se encuentran relaciones entre las variables: RML/LSTAT, AGE/LSTAT, AGE/NOX, principalmente \n",
      " pero es dificil decir quetipo de relación\n"
     ]
    },
    {
     "data": {
      "image/png": "[encoded data removed]",
      "text/plain": [
       "<Figure size 432x432 with 25 Axes>"
      ]
     },
     "metadata": {},
     "output_type": "display_data"
    }
   ],
   "source": [
    "#First, we create the new dataset and look for relationships between the variables\n",
    "\n",
    "from pandas.plotting import scatter_matrix\n",
    "\n",
    "y = boston['MEDV']\n",
    "X = boston[['LSTAT','INDUS', 'NOX', 'RM', 'AGE']]\n",
    "\n",
    "boston2=boston[['LSTAT','INDUS', 'NOX', 'RM', 'AGE','MEDV']]\n",
    "\n",
    "scatter_matrix(X, alpha=0.2, figsize=(6, 6), diagonal='kde')\n",
    "print(\"Se encuentran relaciones entre las variables: RML/LSTAT, AGE/LSTAT, AGE/NOX, principalmente \\n pero es dificil decir quetipo de relación\")"
   ]
  },
  {
   "cell_type": "code",
   "execution_count": 16,
   "metadata": {},
   "outputs": [
    {
     "data": {
      "text/html": [
       "<div>\n",
       "<style scoped>\n",
       "    .dataframe tbody tr th:only-of-type {\n",
       "        vertical-align: middle;\n",
       "    }\n",
       "\n",
       "    .dataframe tbody tr th {\n",
       "        vertical-align: top;\n",
       "    }\n",
       "\n",
       "    .dataframe thead th {\n",
       "        text-align: right;\n",
       "    }\n",
       "</style>\n",
       "<table border=\"1\" class=\"dataframe\">\n",
       "  <thead>\n",
       "    <tr style=\"text-align: right;\">\n",
       "      <th></th>\n",
       "      <th>LSTAT</th>\n",
       "      <th>INDUS</th>\n",
       "      <th>NOX</th>\n",
       "      <th>RM</th>\n",
       "      <th>AGE</th>\n",
       "      <th>MEDV</th>\n",
       "    </tr>\n",
       "  </thead>\n",
       "  <tbody>\n",
       "    <tr>\n",
       "      <th>LSTAT</th>\n",
       "      <td>1.000000</td>\n",
       "      <td>0.603800</td>\n",
       "      <td>0.590879</td>\n",
       "      <td>-0.613808</td>\n",
       "      <td>0.602339</td>\n",
       "      <td>-0.737663</td>\n",
       "    </tr>\n",
       "    <tr>\n",
       "      <th>INDUS</th>\n",
       "      <td>0.603800</td>\n",
       "      <td>1.000000</td>\n",
       "      <td>0.763651</td>\n",
       "      <td>-0.391676</td>\n",
       "      <td>0.644779</td>\n",
       "      <td>-0.483725</td>\n",
       "    </tr>\n",
       "    <tr>\n",
       "      <th>NOX</th>\n",
       "      <td>0.590879</td>\n",
       "      <td>0.763651</td>\n",
       "      <td>1.000000</td>\n",
       "      <td>-0.302188</td>\n",
       "      <td>0.731470</td>\n",
       "      <td>-0.427321</td>\n",
       "    </tr>\n",
       "    <tr>\n",
       "      <th>RM</th>\n",
       "      <td>-0.613808</td>\n",
       "      <td>-0.391676</td>\n",
       "      <td>-0.302188</td>\n",
       "      <td>1.000000</td>\n",
       "      <td>-0.240265</td>\n",
       "      <td>0.695360</td>\n",
       "    </tr>\n",
       "    <tr>\n",
       "      <th>AGE</th>\n",
       "      <td>0.602339</td>\n",
       "      <td>0.644779</td>\n",
       "      <td>0.731470</td>\n",
       "      <td>-0.240265</td>\n",
       "      <td>1.000000</td>\n",
       "      <td>-0.376955</td>\n",
       "    </tr>\n",
       "    <tr>\n",
       "      <th>MEDV</th>\n",
       "      <td>-0.737663</td>\n",
       "      <td>-0.483725</td>\n",
       "      <td>-0.427321</td>\n",
       "      <td>0.695360</td>\n",
       "      <td>-0.376955</td>\n",
       "      <td>1.000000</td>\n",
       "    </tr>\n",
       "  </tbody>\n",
       "</table>\n",
       "</div>"
      ],
      "text/plain": [
       "          LSTAT     INDUS       NOX        RM       AGE      MEDV\n",
       "LSTAT  1.000000  0.603800  0.590879 -0.613808  0.602339 -0.737663\n",
       "INDUS  0.603800  1.000000  0.763651 -0.391676  0.644779 -0.483725\n",
       "NOX    0.590879  0.763651  1.000000 -0.302188  0.731470 -0.427321\n",
       "RM    -0.613808 -0.391676 -0.302188  1.000000 -0.240265  0.695360\n",
       "AGE    0.602339  0.644779  0.731470 -0.240265  1.000000 -0.376955\n",
       "MEDV  -0.737663 -0.483725 -0.427321  0.695360 -0.376955  1.000000"
      ]
     },
     "execution_count": 16,
     "metadata": {},
     "output_type": "execute_result"
    }
   ],
   "source": [
    "#We generate the matrix correlation between all the variables in the new dataset\n",
    "corr = boston2.corr()\n",
    "corr"
   ]
  },
  {
   "cell_type": "code",
   "execution_count": 17,
   "metadata": {},
   "outputs": [
    {
     "name": "stdout",
     "output_type": "stream",
     "text": [
      "We find that the following pairs are most correlated: INDUS/NOX, AGE/NOX and RM/MEDV\n"
     ]
    },
    {
     "data": {
      "image/png": "[encoded data removed]",
      "text/plain": [
       "<Figure size 432x288 with 2 Axes>"
      ]
     },
     "metadata": {},
     "output_type": "display_data"
    }
   ],
   "source": [
    "#BONUS: Visualize this matrix as heat map using Pandas, Matplotlib or Seaborn.\n",
    "\n",
    "import seaborn as sns\n",
    "sns.heatmap(corr, \n",
    "            xticklabels=corr.columns.values,\n",
    "            yticklabels=corr.columns.values)\n",
    "\n",
    "print(\"We find that the following pairs are most correlated: INDUS/NOX, AGE/NOX and RM/MEDV\")"
   ]
  },
  {
   "cell_type": "markdown",
   "metadata": {},
   "source": [
    "## EXERCISE 4.4"
   ]
  },
  {
   "cell_type": "code",
   "execution_count": 24,
   "metadata": {},
   "outputs": [],
   "source": [
    "#First we create the new datasets and its train/test vectors\n",
    "\n",
    "boston3=boston[['RM','MEDV']]\n",
    "boston4=boston[['LSTAT','MEDV']]\n",
    "\n",
    "y3 = boston3['MEDV']\n",
    "X3 = boston3.drop('MEDV', axis=1)\n",
    "\n",
    "X_train3, X_test3, y_train3, y_test3 = train_test_split(X3, y3, test_size=0.3, random_state=1)\n",
    "\n",
    "y4 = boston4['MEDV']\n",
    "X4 = boston4.drop('MEDV', axis=1)\n",
    "\n",
    "X_train4, X_test4, y_train4, y_test4 = train_test_split(X4, y4, test_size=0.3, random_state=1)"
   ]
  },
  {
   "cell_type": "code",
   "execution_count": 27,
   "metadata": {},
   "outputs": [
    {
     "ename": "ModuleNotFoundError",
     "evalue": "No module named 'sklearn.neural_network.MLPRegressor'",
     "output_type": "error",
     "traceback": [
      "\u001b[0;31m---------------------------------------------------------------------------\u001b[0m",
      "\u001b[0;31mModuleNotFoundError\u001b[0m                       Traceback (most recent call last)",
      "\u001b[0;32m<ipython-input-27-5438da6252ad>\u001b[0m in \u001b[0;36m<module>\u001b[0;34m()\u001b[0m\n\u001b[1;32m      2\u001b[0m \u001b[0;34m\u001b[0m\u001b[0m\n\u001b[1;32m      3\u001b[0m \u001b[0;32mfrom\u001b[0m \u001b[0msklearn\u001b[0m\u001b[0;34m.\u001b[0m\u001b[0mmetrics\u001b[0m \u001b[0;32mimport\u001b[0m \u001b[0mmean_squared_error\u001b[0m\u001b[0;34m\u001b[0m\u001b[0m\n\u001b[0;32m----> 4\u001b[0;31m \u001b[0;32mimport\u001b[0m \u001b[0msklearn\u001b[0m\u001b[0;34m.\u001b[0m\u001b[0mneural_network\u001b[0m\u001b[0;34m.\u001b[0m\u001b[0mMLPRegressor\u001b[0m\u001b[0;34m\u001b[0m\u001b[0m\n\u001b[0m\u001b[1;32m      5\u001b[0m \u001b[0mn_hidden_neurons\u001b[0m \u001b[0;34m=\u001b[0m \u001b[0;36m1\u001b[0m\u001b[0;34m\u001b[0m\u001b[0m\n\u001b[1;32m      6\u001b[0m \u001b[0;34m\u001b[0m\u001b[0m\n",
      "\u001b[0;31mModuleNotFoundError\u001b[0m: No module named 'sklearn.neural_network.MLPRegressor'"
     ]
    }
   ],
   "source": [
    "#the we train both datasets on LR models to get the MSE of each test set\n",
    "\n",
    "from sklearn.metrics import mean_squared_error\n",
    "import sklearn.neural_network.MLPRegressor\n",
    "n_hidden_neurons = 1\n",
    "\n",
    "nn3 = MLPRegressor(activation='identity', solver='lbfgs', hidden_layer_sizes=(n_hidden_neurons,))\n",
    "nn3.fit(X_train3, y_train3)\n",
    "test_mse3 = mean_squared_error(y_test3, nn.predict(X_test3))\n",
    "\n",
    "nn4 = MLPRegressor(activation='identity', solver='lbfgs', hidden_layer_sizes=(n_hidden_neurons,))\n",
    "nn4.fit(X_train4, y_train4)\n",
    "test_mse4 = mean_squared_error(y_test4, nn.predict(X_test4))\n",
    "\n",
    "print(\"Testing_MSE D1: \", test_mse3)\n",
    "print(\"Testing_MSE D2: \", test_mse4)\n",
    "print(\"w and wo D1: \", nn3.coefs_)\n",
    "print(\"w and wo D2: \", nn4.coefs_)"
   ]
  },
  {
   "cell_type": "code",
   "execution_count": 23,
   "metadata": {
    "scrolled": true
   },
   "outputs": [
    {
     "ename": "NameError",
     "evalue": "name 'plt' is not defined",
     "output_type": "error",
     "traceback": [
      "\u001b[0;31m---------------------------------------------------------------------------\u001b[0m",
      "\u001b[0;31mNameError\u001b[0m                                 Traceback (most recent call last)",
      "\u001b[0;32m<ipython-input-23-d9eb89cf595b>\u001b[0m in \u001b[0;36m<module>\u001b[0;34m()\u001b[0m\n\u001b[0;32m----> 1\u001b[0;31m \u001b[0mplt\u001b[0m\u001b[0;34m.\u001b[0m\u001b[0mscatter\u001b[0m\u001b[0;34m(\u001b[0m\u001b[0mX3\u001b[0m\u001b[0;34m,\u001b[0m \u001b[0my3\u001b[0m\u001b[0;34m)\u001b[0m\u001b[0;34m\u001b[0m\u001b[0m\n\u001b[0m\u001b[1;32m      2\u001b[0m \u001b[0mplt\u001b[0m\u001b[0;34m.\u001b[0m\u001b[0mxlabel\u001b[0m\u001b[0;34m(\u001b[0m\u001b[0;34m'RM'\u001b[0m\u001b[0;34m)\u001b[0m\u001b[0;34m\u001b[0m\u001b[0m\n\u001b[1;32m      3\u001b[0m \u001b[0mplt\u001b[0m\u001b[0;34m.\u001b[0m\u001b[0mylabel\u001b[0m\u001b[0;34m(\u001b[0m\u001b[0;34m'MEDV'\u001b[0m\u001b[0;34m)\u001b[0m\u001b[0;34m\u001b[0m\u001b[0m\n\u001b[1;32m      4\u001b[0m \u001b[0;34m\u001b[0m\u001b[0m\n\u001b[1;32m      5\u001b[0m \u001b[0;32mdef\u001b[0m \u001b[0mlr_h\u001b[0m\u001b[0;34m(\u001b[0m\u001b[0mbeta\u001b[0m\u001b[0;34m,\u001b[0m\u001b[0mX3\u001b[0m\u001b[0;34m)\u001b[0m\u001b[0;34m:\u001b[0m\u001b[0;34m\u001b[0m\u001b[0m\n",
      "\u001b[0;31mNameError\u001b[0m: name 'plt' is not defined"
     ]
    }
   ],
   "source": [
    "plt.scatter(X3, y3)\n",
    "plt.xlabel('RM')\n",
    "plt.ylabel('MEDV')\n",
    "\n",
    "def lr_h(beta,X3):\n",
    "    return np.dot(beta, X3.T)\n",
    "\n",
    "c3=[0.71229455,11.87861731]\n",
    "\n",
    "#Plot the linear regression\n",
    "x = np.c_[np.ones(2), [X3.min(), X3.max()]]\n",
    "plt.plot(x[:, 1], lr_h(c, x), 'r', lw=5)\n",
    "\n",
    "print(\"LR D1\")"
   ]
  },
  {
   "cell_type": "code",
   "execution_count": 21,
   "metadata": {},
   "outputs": [
    {
     "ename": "NameError",
     "evalue": "name 'plt' is not defined",
     "output_type": "error",
     "traceback": [
      "\u001b[0;31m---------------------------------------------------------------------------\u001b[0m",
      "\u001b[0;31mNameError\u001b[0m                                 Traceback (most recent call last)",
      "\u001b[0;32m<ipython-input-21-9f1c441371be>\u001b[0m in \u001b[0;36m<module>\u001b[0;34m()\u001b[0m\n\u001b[0;32m----> 1\u001b[0;31m \u001b[0mplt\u001b[0m\u001b[0;34m.\u001b[0m\u001b[0mscatter\u001b[0m\u001b[0;34m(\u001b[0m\u001b[0mX4\u001b[0m\u001b[0;34m,\u001b[0m \u001b[0my4\u001b[0m\u001b[0;34m)\u001b[0m\u001b[0;34m\u001b[0m\u001b[0m\n\u001b[0m\u001b[1;32m      2\u001b[0m \u001b[0mplt\u001b[0m\u001b[0;34m.\u001b[0m\u001b[0mxlabel\u001b[0m\u001b[0;34m(\u001b[0m\u001b[0;34m'LSTAT'\u001b[0m\u001b[0;34m)\u001b[0m\u001b[0;34m\u001b[0m\u001b[0m\n\u001b[1;32m      3\u001b[0m \u001b[0mplt\u001b[0m\u001b[0;34m.\u001b[0m\u001b[0mylabel\u001b[0m\u001b[0;34m(\u001b[0m\u001b[0;34m'MEDV'\u001b[0m\u001b[0;34m)\u001b[0m\u001b[0;34m\u001b[0m\u001b[0m\n\u001b[1;32m      4\u001b[0m \u001b[0;34m\u001b[0m\u001b[0m\n\u001b[1;32m      5\u001b[0m \u001b[0;32mdef\u001b[0m \u001b[0mlr_h\u001b[0m\u001b[0;34m(\u001b[0m\u001b[0mbeta\u001b[0m\u001b[0;34m,\u001b[0m\u001b[0mX4\u001b[0m\u001b[0;34m)\u001b[0m\u001b[0;34m:\u001b[0m\u001b[0;34m\u001b[0m\u001b[0m\n",
      "\u001b[0;31mNameError\u001b[0m: name 'plt' is not defined"
     ]
    }
   ],
   "source": [
    "plt.scatter(X4, y4)\n",
    "plt.xlabel('LSTAT')\n",
    "plt.ylabel('MEDV')\n",
    "\n",
    "def lr_h(beta,X4):\n",
    "    return np.dot(beta, X4.T)\n",
    "\n",
    "c=[-0.07832926,11.70305027]\n",
    "\n",
    "#Plot the linear regression\n",
    "x = np.c_[np.ones(2), [X4.min(), X4.max()]]\n",
    "plt.plot(x[:, 1], lr_h(c, x), 'r', lw=5)\n",
    "\n",
    "print(\"LR D2\")"
   ]
  },
  {
   "cell_type": "code",
   "execution_count": 22,
   "metadata": {},
   "outputs": [],
   "source": [
    "#observamos que el de mejor desempeño es el modelo D1, ya que se ajusta a\n",
    "#la tendencia positiva de los datos, mientras más grande el RM, más grande el MEDV"
   ]
  },
  {
   "cell_type": "markdown",
   "metadata": {},
   "source": [
    "# EXERCISE 4.5"
   ]
  },
  {
   "cell_type": "code",
   "execution_count": 35,
   "metadata": {},
   "outputs": [
    {
     "name": "stdout",
     "output_type": "stream",
     "text": [
      "MSE LinReg: 18.251463409930384\n"
     ]
    }
   ],
   "source": [
    "\n",
    "y5 = boston['MEDV']\n",
    "X5 = boston.drop('MEDV', axis=1)\n",
    "\n",
    "X_train5, X_test5, y_train5, y_test5 = train_test_split(X5, y5, test_size=0.3, random_state=1)\n",
    "\n",
    "from sklearn.linear_model import LinearRegression\n",
    "\n",
    "linreg_1= LinearRegression(fit_intercept=False)\n",
    "linreg_1.fit(X_train5,y_train5)\n",
    "betas_1 = linreg_1.coef_\n",
    "betas_1\n",
    "\n",
    "from sklearn import metrics\n",
    "\n",
    "\n",
    "print('MSE LinReg:', metrics.mean_squared_error(y_test5,linreg_1.predict(X_test5)))\n"
   ]
  },
  {
   "cell_type": "code",
   "execution_count": 37,
   "metadata": {},
   "outputs": [
    {
     "ename": "ModuleNotFoundError",
     "evalue": "No module named 'sklearn.neural_network.MLPRegressor'",
     "output_type": "error",
     "traceback": [
      "\u001b[0;31m---------------------------------------------------------------------------\u001b[0m",
      "\u001b[0;31mModuleNotFoundError\u001b[0m                       Traceback (most recent call last)",
      "\u001b[0;32m<ipython-input-37-e04a791a855c>\u001b[0m in \u001b[0;36m<module>\u001b[0;34m()\u001b[0m\n\u001b[0;32m----> 1\u001b[0;31m \u001b[0;32mimport\u001b[0m \u001b[0msklearn\u001b[0m\u001b[0;34m.\u001b[0m\u001b[0mneural_network\u001b[0m\u001b[0;34m.\u001b[0m\u001b[0mMLPRegressor\u001b[0m\u001b[0;34m\u001b[0m\u001b[0m\n\u001b[0m\u001b[1;32m      2\u001b[0m \u001b[0mn_hidden_neurons\u001b[0m \u001b[0;34m=\u001b[0m \u001b[0;36m1\u001b[0m\u001b[0;34m\u001b[0m\u001b[0m\n\u001b[1;32m      3\u001b[0m \u001b[0;34m\u001b[0m\u001b[0m\n\u001b[1;32m      4\u001b[0m \u001b[0mnn5\u001b[0m \u001b[0;34m=\u001b[0m \u001b[0mMLPRegressor\u001b[0m\u001b[0;34m(\u001b[0m\u001b[0mactivation\u001b[0m\u001b[0;34m=\u001b[0m\u001b[0;34m'identity'\u001b[0m\u001b[0;34m,\u001b[0m \u001b[0msolver\u001b[0m\u001b[0;34m=\u001b[0m\u001b[0;34m'lbfgs'\u001b[0m\u001b[0;34m,\u001b[0m \u001b[0mhidden_layer_sizes\u001b[0m\u001b[0;34m=\u001b[0m\u001b[0;34m(\u001b[0m\u001b[0mn_hidden_neurons\u001b[0m\u001b[0;34m,\u001b[0m\u001b[0;34m)\u001b[0m\u001b[0;34m)\u001b[0m\u001b[0;34m\u001b[0m\u001b[0m\n\u001b[1;32m      5\u001b[0m \u001b[0mnn5\u001b[0m\u001b[0;34m.\u001b[0m\u001b[0mfit\u001b[0m\u001b[0;34m(\u001b[0m\u001b[0mX_train5\u001b[0m\u001b[0;34m,\u001b[0m \u001b[0my_train5\u001b[0m\u001b[0;34m)\u001b[0m\u001b[0;34m\u001b[0m\u001b[0m\n",
      "\u001b[0;31mModuleNotFoundError\u001b[0m: No module named 'sklearn.neural_network.MLPRegressor'"
     ]
    }
   ],
   "source": [
    "import sklearn.neural_network.MLPRegressor\n",
    "n_hidden_neurons = 1\n",
    "\n",
    "nn5 = MLPRegressor(activation='identity', solver='lbfgs', hidden_layer_sizes=(n_hidden_neurons,))\n",
    "nn5.fit(X_train5, y_train5)\n",
    "test_mse5 = mean_squared_error(y_test5, nn.predict(X_test5))\n",
    "\n",
    "\n",
    "print(\"MSE Using MLPRegressor: \", test_mse4)\n"
   ]
  },
  {
   "cell_type": "code",
   "execution_count": 45,
   "metadata": {
    "scrolled": false
   },
   "outputs": [
    {
     "ename": "TypeError",
     "evalue": "fit() missing 1 required positional argument: 'X'",
     "output_type": "error",
     "traceback": [
      "\u001b[0;31m---------------------------------------------------------------------------\u001b[0m",
      "\u001b[0;31mTypeError\u001b[0m                                 Traceback (most recent call last)",
      "\u001b[0;32m<ipython-input-45-cc18992c2e44>\u001b[0m in \u001b[0;36m<module>\u001b[0;34m()\u001b[0m\n\u001b[1;32m      3\u001b[0m \u001b[0;34m\u001b[0m\u001b[0m\n\u001b[1;32m      4\u001b[0m \u001b[0msc_x\u001b[0m \u001b[0;34m=\u001b[0m \u001b[0mStandardScaler\u001b[0m\u001b[0;34m\u001b[0m\u001b[0m\n\u001b[0;32m----> 5\u001b[0;31m \u001b[0msc_x\u001b[0m\u001b[0;34m.\u001b[0m\u001b[0mfit\u001b[0m\u001b[0;34m(\u001b[0m\u001b[0mX5\u001b[0m\u001b[0;34m)\u001b[0m\u001b[0;34m\u001b[0m\u001b[0m\n\u001b[0m\u001b[1;32m      6\u001b[0m \u001b[0mX_train_s\u001b[0m \u001b[0;34m=\u001b[0m \u001b[0msc_x\u001b[0m\u001b[0;34m.\u001b[0m\u001b[0mtransform\u001b[0m\u001b[0;34m(\u001b[0m\u001b[0mX_train5\u001b[0m\u001b[0;34m)\u001b[0m\u001b[0;34m\u001b[0m\u001b[0m\n\u001b[1;32m      7\u001b[0m \u001b[0mX_test_s\u001b[0m \u001b[0;34m=\u001b[0m \u001b[0msc_x\u001b[0m\u001b[0;34m.\u001b[0m\u001b[0mtransform\u001b[0m\u001b[0;34m(\u001b[0m\u001b[0mX_test5\u001b[0m\u001b[0;34m)\u001b[0m\u001b[0;34m\u001b[0m\u001b[0m\n",
      "\u001b[0;31mTypeError\u001b[0m: fit() missing 1 required positional argument: 'X'"
     ]
    }
   ],
   "source": [
    "\n",
    "from sklearn.preprocessing import StandardScaler\n",
    "\n",
    "sc_x = StandardScaler\n",
    "sc_x.fit(X5)\n",
    "X_train_s = sc_x.transform(X_train5)\n",
    "X_test_s = sc_x.transform(X_test5)\n",
    "\n",
    "\n",
    "n_hidden_neurons = 1\n",
    "\n",
    "nnS1 = MLPRegressor(activation='identity', solver='lbfgs', hidden_layer_sizes=(n_hidden_neurons,))\n",
    "nnS1.fit(X_train_s, y_train5)\n",
    "test_mse_s = mean_squared_error(y_test5, nn.predict(X_test_s))\n",
    "\n",
    "print(\"MSE Using Scaled data: \", test_mse_s)\n"
   ]
  },
  {
   "cell_type": "code",
   "execution_count": 46,
   "metadata": {},
   "outputs": [
    {
     "ename": "NameError",
     "evalue": "name 'MLPRegressor' is not defined",
     "output_type": "error",
     "traceback": [
      "\u001b[0;31m---------------------------------------------------------------------------\u001b[0m",
      "\u001b[0;31mNameError\u001b[0m                                 Traceback (most recent call last)",
      "\u001b[0;32m<ipython-input-46-aecd57882423>\u001b[0m in \u001b[0;36m<module>\u001b[0;34m()\u001b[0m\n\u001b[1;32m      1\u001b[0m \u001b[0mn_hidden_neurons\u001b[0m \u001b[0;34m=\u001b[0m \u001b[0;36m2\u001b[0m\u001b[0;34m\u001b[0m\u001b[0m\n\u001b[1;32m      2\u001b[0m \u001b[0;34m\u001b[0m\u001b[0m\n\u001b[0;32m----> 3\u001b[0;31m \u001b[0mnnS1\u001b[0m \u001b[0;34m=\u001b[0m \u001b[0mMLPRegressor\u001b[0m\u001b[0;34m(\u001b[0m\u001b[0mactivation\u001b[0m\u001b[0;34m=\u001b[0m\u001b[0;34m'identity'\u001b[0m\u001b[0;34m,\u001b[0m \u001b[0msolver\u001b[0m\u001b[0;34m=\u001b[0m\u001b[0;34m'lbfgs'\u001b[0m\u001b[0;34m,\u001b[0m \u001b[0mhidden_layer_sizes\u001b[0m\u001b[0;34m=\u001b[0m\u001b[0;34m(\u001b[0m\u001b[0mn_hidden_neurons\u001b[0m\u001b[0;34m,\u001b[0m\u001b[0;34m)\u001b[0m\u001b[0;34m)\u001b[0m\u001b[0;34m\u001b[0m\u001b[0m\n\u001b[0m\u001b[1;32m      4\u001b[0m \u001b[0mnnS1\u001b[0m\u001b[0;34m.\u001b[0m\u001b[0mfit\u001b[0m\u001b[0;34m(\u001b[0m\u001b[0mX_train_s\u001b[0m\u001b[0;34m,\u001b[0m \u001b[0my_train5\u001b[0m\u001b[0;34m)\u001b[0m\u001b[0;34m\u001b[0m\u001b[0m\n\u001b[1;32m      5\u001b[0m \u001b[0mtest_mse_s\u001b[0m \u001b[0;34m=\u001b[0m \u001b[0mmean_squared_error\u001b[0m\u001b[0;34m(\u001b[0m\u001b[0my_test5\u001b[0m\u001b[0;34m,\u001b[0m \u001b[0mnn\u001b[0m\u001b[0;34m.\u001b[0m\u001b[0mpredict\u001b[0m\u001b[0;34m(\u001b[0m\u001b[0mX_test_s\u001b[0m\u001b[0;34m)\u001b[0m\u001b[0;34m)\u001b[0m\u001b[0;34m\u001b[0m\u001b[0m\n",
      "\u001b[0;31mNameError\u001b[0m: name 'MLPRegressor' is not defined"
     ]
    }
   ],
   "source": [
    "n_hidden_neurons = 2\n",
    "\n",
    "nnS1 = MLPRegressor(activation='identity', solver='lbfgs', hidden_layer_sizes=(n_hidden_neurons,))\n",
    "nnS1.fit(X_train_s, y_train5)\n",
    "test_mse_s = mean_squared_error(y_test5, nn.predict(X_test_s))\n",
    "\n",
    "print(\"MSE Using Scaled data: \", test_mse_s)\n"
   ]
  },
  {
   "cell_type": "code",
   "execution_count": null,
   "metadata": {},
   "outputs": [],
   "source": []
  },
  {
   "cell_type": "code",
   "execution_count": null,
   "metadata": {},
   "outputs": [],
   "source": [
    "from sklearn.neural_network import MLPClassifier\n",
    "\n",
    "clf = MLPClassifier(solver='lbfgs', alpha=1e-5,hidden_layer_sizes=(128, 512), random_state=1)\n",
    "clf.fit(X_train_s, y_train5)\n",
    "\n",
    "test_mse_s2 = mean_squared_error(y_test5, nn.predict(X_test_s))\n",
    "\n",
    "print(\"MSE Using Scaled data NN: \", test_mse_s2)"
   ]
  },
  {
   "cell_type": "code",
   "execution_count": null,
   "metadata": {},
   "outputs": [],
   "source": []
  },
  {
   "cell_type": "markdown",
   "metadata": {},
   "source": [
    "### - Which model has better performance? Why?\n",
    "#### entre los modelos evaluados el modelo que menor valor en el MSE obtuvo fue el último con el MultiLayer Perceptron."
   ]
  }
 ],
 "metadata": {
  "kernelspec": {
   "display_name": "Python 3",
   "language": "python",
   "name": "python3"
  },
  "language_info": {
   "codemirror_mode": {
    "name": "ipython",
    "version": 3
   },
   "file_extension": ".py",
   "mimetype": "text/x-python",
   "name": "python",
   "nbconvert_exporter": "python",
   "pygments_lexer": "ipython3",
   "version": "3.6.5"
  }
 },
 "nbformat": 4,
 "nbformat_minor": 2
}
