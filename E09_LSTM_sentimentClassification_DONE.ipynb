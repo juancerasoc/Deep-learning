{
  "nbformat": 4,
  "nbformat_minor": 0,
  "metadata": {
    "colab": {
      "name": "E09-LSTM_sentimentClassification-DONE.ipynb",
      "version": "0.3.2",
      "views": {},
      "default_view": {},
      "provenance": [],
      "collapsed_sections": []
    },
    "kernelspec": {
      "display_name": "Python 3",
      "language": "python",
      "name": "python3"
    },
    "accelerator": "GPU"
  },
  "cells": [
    {
      "metadata": {
        "id": "yCh0O6n5WlYs",
        "colab_type": "text"
      },
      "cell_type": "markdown",
      "source": [
        "# Exercise 09\n",
        "\n",
        "## DONE BY: JUAN CARLOS ERASO Y CARLOS QUISPE\n",
        "\n",
        "\n",
        "## Sequence Classification using LSTM\n",
        "\n",
        "Sequence classification is a predictive modeling problem where you have some sequence of inputs over space or time and the task is to predict a category for the sequence.\n",
        "\n",
        "What makes this problem difficult is that the sequences can vary in length, be comprised of a very large vocabulary of input symbols and may require the model to learn the long-term context or dependencies between symbols in the input sequence."
      ]
    },
    {
      "metadata": {
        "id": "fmoCdu9oWlYu",
        "colab_type": "text"
      },
      "cell_type": "markdown",
      "source": [
        "[The Large Movie Review Dataset](http://ai.stanford.edu/~amaas/data/sentiment/) (often referred to as the IMDB dataset) contains 25,000 highly-polar movie reviews (good or bad) for training and the same amount again for testing. The problem is to determine whether a given movie review has a positive or negative sentiment."
      ]
    },
    {
      "metadata": {
        "id": "T2L3Ax_jWlYu",
        "colab_type": "code",
        "colab": {
          "autoexec": {
            "startup": false,
            "wait_interval": 0
          },
          "base_uri": "https://localhost:8080/",
          "height": 34
        },
        "outputId": "454b7c6a-72db-47e1-da88-eb721d87688e",
        "executionInfo": {
          "status": "ok",
          "timestamp": 1531953369677,
          "user_tz": 300,
          "elapsed": 1504,
          "user": {
            "displayName": "Juan Carlos Eraso",
            "photoUrl": "//lh3.googleusercontent.com/-S-vF252lc_w/AAAAAAAAAAI/AAAAAAAAAAs/o83TlZr9iPQ/s50-c-k-no/photo.jpg",
            "userId": "114375146705102855436"
          }
        }
      },
      "cell_type": "code",
      "source": [
        "import numpy as np\n",
        "from keras.datasets import imdb\n",
        "from keras.models import Sequential\n",
        "from keras.layers import Dense\n",
        "from keras.layers import LSTM\n",
        "from keras.layers.embeddings import Embedding\n",
        "from keras.preprocessing import sequence\n",
        "from keras.callbacks import History\n",
        "np.random.seed(7)"
      ],
      "execution_count": 1,
      "outputs": [
        {
          "output_type": "stream",
          "text": [
            "Using TensorFlow backend.\n"
          ],
          "name": "stderr"
        }
      ]
    },
    {
      "metadata": {
        "id": "TrvDXnI3WlY0",
        "colab_type": "code",
        "colab": {
          "autoexec": {
            "startup": false,
            "wait_interval": 0
          }
        }
      },
      "cell_type": "code",
      "source": [
        "#from livelossplot import PlotLossesKeras\n",
        "%matplotlib inline"
      ],
      "execution_count": 0,
      "outputs": []
    },
    {
      "metadata": {
        "id": "khgQjEGLWlY3",
        "colab_type": "code",
        "colab": {
          "autoexec": {
            "startup": false,
            "wait_interval": 0
          },
          "base_uri": "https://localhost:8080/",
          "height": 51
        },
        "outputId": "95446600-de20-4508-a4f4-adba596ae3b2",
        "executionInfo": {
          "status": "ok",
          "timestamp": 1531953378464,
          "user_tz": 300,
          "elapsed": 8345,
          "user": {
            "displayName": "Juan Carlos Eraso",
            "photoUrl": "//lh3.googleusercontent.com/-S-vF252lc_w/AAAAAAAAAAI/AAAAAAAAAAs/o83TlZr9iPQ/s50-c-k-no/photo.jpg",
            "userId": "114375146705102855436"
          }
        }
      },
      "cell_type": "code",
      "source": [
        "# load the dataset but only keep the top n words, zero the rest\n",
        "top_words = 5000\n",
        "index_from = 3\n",
        "(X_train, y_train), (X_test, y_test) = imdb.load_data(num_words=top_words, index_from=index_from)"
      ],
      "execution_count": 3,
      "outputs": [
        {
          "output_type": "stream",
          "text": [
            "Downloading data from https://s3.amazonaws.com/text-datasets/imdb.npz\n",
            "17465344/17464789 [==============================] - 2s 0us/step\n"
          ],
          "name": "stdout"
        }
      ]
    },
    {
      "metadata": {
        "id": "k_60td5DWlY5",
        "colab_type": "code",
        "colab": {
          "autoexec": {
            "startup": false,
            "wait_interval": 0
          },
          "base_uri": "https://localhost:8080/",
          "height": 34
        },
        "outputId": "80da4dbf-28af-467d-a792-c2b23371cee5",
        "executionInfo": {
          "status": "ok",
          "timestamp": 1531953378872,
          "user_tz": 300,
          "elapsed": 386,
          "user": {
            "displayName": "Juan Carlos Eraso",
            "photoUrl": "//lh3.googleusercontent.com/-S-vF252lc_w/AAAAAAAAAAI/AAAAAAAAAAs/o83TlZr9iPQ/s50-c-k-no/photo.jpg",
            "userId": "114375146705102855436"
          }
        }
      },
      "cell_type": "code",
      "source": [
        "y_train[0]"
      ],
      "execution_count": 4,
      "outputs": [
        {
          "output_type": "execute_result",
          "data": {
            "text/plain": [
              "1"
            ]
          },
          "metadata": {
            "tags": []
          },
          "execution_count": 4
        }
      ]
    },
    {
      "metadata": {
        "id": "MZ0oAUPNWlY8",
        "colab_type": "code",
        "colab": {
          "autoexec": {
            "startup": false,
            "wait_interval": 0
          },
          "base_uri": "https://localhost:8080/",
          "height": 34
        },
        "outputId": "acc5f832-0a7f-4efd-83d0-f13e3d0ad4b5",
        "executionInfo": {
          "status": "ok",
          "timestamp": 1531953380641,
          "user_tz": 300,
          "elapsed": 1727,
          "user": {
            "displayName": "Juan Carlos Eraso",
            "photoUrl": "//lh3.googleusercontent.com/-S-vF252lc_w/AAAAAAAAAAI/AAAAAAAAAAs/o83TlZr9iPQ/s50-c-k-no/photo.jpg",
            "userId": "114375146705102855436"
          }
        }
      },
      "cell_type": "code",
      "source": [
        "np.min([np.min(x) for x in X_train]), np.max([np.max(x) for x in X_train])"
      ],
      "execution_count": 5,
      "outputs": [
        {
          "output_type": "execute_result",
          "data": {
            "text/plain": [
              "(1, 4999)"
            ]
          },
          "metadata": {
            "tags": []
          },
          "execution_count": 5
        }
      ]
    },
    {
      "metadata": {
        "id": "-sBpDd0WWlY_",
        "colab_type": "text"
      },
      "cell_type": "markdown",
      "source": [
        "The words have been replaced by integers that indicate the ordered frequency of each word in the dataset. The sentences in each review are therefore comprised of a sequence of integers."
      ]
    },
    {
      "metadata": {
        "id": "AxGnoceuWlZA",
        "colab_type": "code",
        "colab": {
          "autoexec": {
            "startup": false,
            "wait_interval": 0
          },
          "base_uri": "https://localhost:8080/",
          "height": 34
        },
        "outputId": "f76b9420-ed51-4f88-f32e-04419028f266",
        "executionInfo": {
          "status": "ok",
          "timestamp": 1531953386485,
          "user_tz": 300,
          "elapsed": 321,
          "user": {
            "displayName": "Juan Carlos Eraso",
            "photoUrl": "//lh3.googleusercontent.com/-S-vF252lc_w/AAAAAAAAAAI/AAAAAAAAAAs/o83TlZr9iPQ/s50-c-k-no/photo.jpg",
            "userId": "114375146705102855436"
          }
        }
      },
      "cell_type": "code",
      "source": [
        "X_train.shape"
      ],
      "execution_count": 6,
      "outputs": [
        {
          "output_type": "execute_result",
          "data": {
            "text/plain": [
              "(25000,)"
            ]
          },
          "metadata": {
            "tags": []
          },
          "execution_count": 6
        }
      ]
    },
    {
      "metadata": {
        "id": "eyi0x3kqWlZE",
        "colab_type": "code",
        "colab": {
          "autoexec": {
            "startup": false,
            "wait_interval": 0
          },
          "base_uri": "https://localhost:8080/",
          "height": 54
        },
        "outputId": "3c27ccde-d7e9-45da-dce4-d9e42399dc35",
        "executionInfo": {
          "status": "ok",
          "timestamp": 1531953387354,
          "user_tz": 300,
          "elapsed": 421,
          "user": {
            "displayName": "Juan Carlos Eraso",
            "photoUrl": "//lh3.googleusercontent.com/-S-vF252lc_w/AAAAAAAAAAI/AAAAAAAAAAs/o83TlZr9iPQ/s50-c-k-no/photo.jpg",
            "userId": "114375146705102855436"
          }
        }
      },
      "cell_type": "code",
      "source": [
        "print(X_train.shape,X_train[0])"
      ],
      "execution_count": 7,
      "outputs": [
        {
          "output_type": "stream",
          "text": [
            "(25000,) [1, 14, 22, 16, 43, 530, 973, 1622, 1385, 65, 458, 4468, 66, 3941, 4, 173, 36, 256, 5, 25, 100, 43, 838, 112, 50, 670, 2, 9, 35, 480, 284, 5, 150, 4, 172, 112, 167, 2, 336, 385, 39, 4, 172, 4536, 1111, 17, 546, 38, 13, 447, 4, 192, 50, 16, 6, 147, 2025, 19, 14, 22, 4, 1920, 4613, 469, 4, 22, 71, 87, 12, 16, 43, 530, 38, 76, 15, 13, 1247, 4, 22, 17, 515, 17, 12, 16, 626, 18, 2, 5, 62, 386, 12, 8, 316, 8, 106, 5, 4, 2223, 2, 16, 480, 66, 3785, 33, 4, 130, 12, 16, 38, 619, 5, 25, 124, 51, 36, 135, 48, 25, 1415, 33, 6, 22, 12, 215, 28, 77, 52, 5, 14, 407, 16, 82, 2, 8, 4, 107, 117, 2, 15, 256, 4, 2, 7, 3766, 5, 723, 36, 71, 43, 530, 476, 26, 400, 317, 46, 7, 4, 2, 1029, 13, 104, 88, 4, 381, 15, 297, 98, 32, 2071, 56, 26, 141, 6, 194, 2, 18, 4, 226, 22, 21, 134, 476, 26, 480, 5, 144, 30, 2, 18, 51, 36, 28, 224, 92, 25, 104, 4, 226, 65, 16, 38, 1334, 88, 12, 16, 283, 5, 16, 4472, 113, 103, 32, 15, 16, 2, 19, 178, 32]\n"
          ],
          "name": "stdout"
        }
      ]
    },
    {
      "metadata": {
        "id": "Hpq94SgSWlZI",
        "colab_type": "text"
      },
      "cell_type": "markdown",
      "source": [
        "Next, we need to truncate and pad the input sequences so that they are all the same length for modeling. The model will learn the zero values carry no information so indeed the sequences are not the same length in terms of content, but same length vectors is required to perform the computation in Keras."
      ]
    },
    {
      "metadata": {
        "id": "aIySI1BsWlZJ",
        "colab_type": "code",
        "colab": {
          "autoexec": {
            "startup": false,
            "wait_interval": 0
          }
        }
      },
      "cell_type": "code",
      "source": [
        "# truncate and pad input sequences\n",
        "max_review_length = 500\n",
        "X_train_pad = sequence.pad_sequences(X_train, maxlen=max_review_length)\n",
        "X_test_pad = sequence.pad_sequences(X_test, maxlen=max_review_length)\n"
      ],
      "execution_count": 0,
      "outputs": []
    },
    {
      "metadata": {
        "id": "wxqbrCu5WlZM",
        "colab_type": "code",
        "colab": {
          "autoexec": {
            "startup": false,
            "wait_interval": 0
          },
          "base_uri": "https://localhost:8080/",
          "height": 34
        },
        "outputId": "9102a3b6-a526-40b1-c1f5-15eef635e7ee",
        "executionInfo": {
          "status": "ok",
          "timestamp": 1531953390992,
          "user_tz": 300,
          "elapsed": 333,
          "user": {
            "displayName": "Juan Carlos Eraso",
            "photoUrl": "//lh3.googleusercontent.com/-S-vF252lc_w/AAAAAAAAAAI/AAAAAAAAAAs/o83TlZr9iPQ/s50-c-k-no/photo.jpg",
            "userId": "114375146705102855436"
          }
        }
      },
      "cell_type": "code",
      "source": [
        "X_train_pad.shape"
      ],
      "execution_count": 9,
      "outputs": [
        {
          "output_type": "execute_result",
          "data": {
            "text/plain": [
              "(25000, 500)"
            ]
          },
          "metadata": {
            "tags": []
          },
          "execution_count": 9
        }
      ]
    },
    {
      "metadata": {
        "id": "OXHGW7xFWlZP",
        "colab_type": "text"
      },
      "cell_type": "markdown",
      "source": [
        "### Word Embedding\n",
        "\n",
        "We will map each movie review into a real vector domain, a popular technique when working with text called word embedding. This is a technique where words are encoded as real-valued vectors in a high dimensional space, where the similarity between words in terms of meaning translates to closeness in the vector space.\n",
        "\n",
        "Keras provides a convenient way to convert positive integer representations of words into a word embedding by an Embedding layer.\n",
        "\n",
        "We will map each word onto a 32 length real valued vector. We will also limit the total number of words that we are interested in modeling to the 5000 most frequent words, and zero out the rest. Finally, the sequence length (number of words) in each review varies, so we will constrain each review to be 500 words, truncating long reviews and pad the shorter reviews with zero values.\n",
        "\n",
        "Now that we have defined our problem and how the data will be prepared and modeled, we are ready to develop an LSTM model to classify the sentiment of movie reviews."
      ]
    },
    {
      "metadata": {
        "id": "66fIOksVWlZP",
        "colab_type": "text"
      },
      "cell_type": "markdown",
      "source": [
        "# Exercise 09.1\n",
        "\n",
        "Train a Deep Neural Network with the following architecture:\n",
        "\n",
        "- Input = pad_sequences (input_length=max_review_length)\n",
        "- Embedding(top_words, 32, input_length)\n",
        "- LSTM(100)\n",
        "- Dense(1, sigmoid)\n",
        "\n",
        "Optimized using adam using as loss binary_crossentropy\n",
        "\n",
        "Hints: \n",
        "- test with two iterations then try more. \n",
        "- learning can be ajusted\n",
        "\n",
        "Evaluate the performance using the testing set (aprox 87% with 10 epochs)"
      ]
    },
    {
      "metadata": {
        "id": "fHJV8HXEWlZQ",
        "colab_type": "code",
        "colab": {
          "autoexec": {
            "startup": false,
            "wait_interval": 0
          },
          "base_uri": "https://localhost:8080/",
          "height": 238
        },
        "outputId": "62f091f2-0b1d-4c19-9a70-a09d2f9f85ae",
        "executionInfo": {
          "status": "ok",
          "timestamp": 1531953398418,
          "user_tz": 300,
          "elapsed": 833,
          "user": {
            "displayName": "Juan Carlos Eraso",
            "photoUrl": "//lh3.googleusercontent.com/-S-vF252lc_w/AAAAAAAAAAI/AAAAAAAAAAs/o83TlZr9iPQ/s50-c-k-no/photo.jpg",
            "userId": "114375146705102855436"
          }
        }
      },
      "cell_type": "code",
      "source": [
        "model = Sequential()\n",
        "model.add(Embedding(top_words, 32, input_shape=X_train_pad.shape[1:]))\n",
        "model.add(LSTM(100))\n",
        "model.add(Dense(1, activation='sigmoid'))\n",
        "model.compile(loss='binary_crossentropy', optimizer='adam', metrics=['accuracy'])\n",
        "\n",
        "model.summary()        "
      ],
      "execution_count": 10,
      "outputs": [
        {
          "output_type": "stream",
          "text": [
            "_________________________________________________________________\n",
            "Layer (type)                 Output Shape              Param #   \n",
            "=================================================================\n",
            "embedding_1 (Embedding)      (None, 500, 32)           160000    \n",
            "_________________________________________________________________\n",
            "lstm_1 (LSTM)                (None, 100)               53200     \n",
            "_________________________________________________________________\n",
            "dense_1 (Dense)              (None, 1)                 101       \n",
            "=================================================================\n",
            "Total params: 213,301\n",
            "Trainable params: 213,301\n",
            "Non-trainable params: 0\n",
            "_________________________________________________________________\n"
          ],
          "name": "stdout"
        }
      ]
    },
    {
      "metadata": {
        "id": "n95ucTlBimto",
        "colab_type": "text"
      },
      "cell_type": "markdown",
      "source": [
        "### NOTE: Did not run the next two cells because of the time, sorry."
      ]
    },
    {
      "metadata": {
        "id": "3VlfYzfkgE9j",
        "colab_type": "code",
        "colab": {
          "autoexec": {
            "startup": false,
            "wait_interval": 0
          }
        }
      },
      "cell_type": "code",
      "source": [
        "#TRAINING 2 EPOCHS\n",
        "model.fit(X_train_pad,y_train, epochs=2,validation_data=(X_test_pad, y_test))\n",
        "\n",
        "#TESTING\n",
        "score = model.evaluate(X_test_pad, y_test)\n",
        "print('Test score:', score[0])\n",
        "print('Test accuracy:', score[1])"
      ],
      "execution_count": 0,
      "outputs": []
    },
    {
      "metadata": {
        "id": "ZkTAklXXgEwU",
        "colab_type": "code",
        "colab": {
          "autoexec": {
            "startup": false,
            "wait_interval": 0
          }
        }
      },
      "cell_type": "code",
      "source": [
        "#TRAINING 10 EPOCHS\n",
        "model.fit(X_train_pad,y_train, epochs=10,validation_data=(X_test_pad, y_test))\n",
        "\n",
        "#TESTING\n",
        "score = model.evaluate(X_test_pad, y_test)\n",
        "print('Test score:', score[0])\n",
        "print('Test accuracy:', score[1])"
      ],
      "execution_count": 0,
      "outputs": []
    },
    {
      "metadata": {
        "id": "z0EeQdf-WlZT",
        "colab_type": "text"
      },
      "cell_type": "markdown",
      "source": [
        "# Exercise 09.2\n",
        "\n",
        "Predict the sentiment of the following reviews"
      ]
    },
    {
      "metadata": {
        "id": "tPFsDNfGWlZT",
        "colab_type": "code",
        "colab": {
          "autoexec": {
            "startup": false,
            "wait_interval": 0
          }
        }
      },
      "cell_type": "code",
      "source": [
        "reviews = [\"I was fortunate enough to see this movie on pre-release last night and, though I wasn't expecting to, actually really enjoyed the movie for the most part. The rescues and sea effects were amazing to watch and definitely provided edge of the seat tense moments, probably all the more so knowing that there are guys who do this for a living. The weaker parts of the movie revolve largely around using stereotypical set scenes. I'm not going to spoil the movie but this really follows along the lines of An Officer and a Gentleman and those moments give it a little bit of a cheesy aftertaste.<br /><br />Like I said over all this movie is pretty good and worth checking out as long as you can get past the clichés.\",\n",
        "           '\"The Dresser\" is perhaps the most refined of backstage films. The film is brimming with wit and spirit, for the most part provided by the \"energetic\" character of Norman (Tom Courtenay). Although his character is clearly gay, and certainly has an attraction for the lead performer (Albert Finney) that he assists, the film never dwells on it or makes it more than it is.<br /><br />The gritty style of Peter Yates that worked so well in \"Bullitt\" is again on display, and gives the film a sense of realism and coherence. This is much appreciated in a story that could so easily have become tedious. In the end, \"The Dresser\" will bore many people silly, but it will truly be a delight to those who love British cinema.<br /><br />7.7 out of 10',\n",
        "           \"So real and surreal, all in one. I remember feeling like Tessa. Heck, I remember being Tessa. This was a beautiful vignette of a relationship ending. I especially liked the protesters tangent. It is nice to see symbolism in a movie without being smacked over the head with it. If you get the chance to see this, take it. It is well worth the 30 minutes.\",\n",
        "           \"This is a pale imitation of 'Officer and a Gentleman.' There is NO chemistry between Kutcher and the unknown woman who plays his love interest. The dialog is wooden, the situations hackneyed. It's too long and the climax is anti-climactic(!). I love the USCG, its men and women are fearless and tough. The action scenes are awesome, but this movie doesn't do much for recruiting, I fear. The script is formulaic, but confusing. Kutcher's character is trying to redeem himself for an accident that wasn't his fault? Costner's is raging against the dying of the light, but why? His 'conflict' with his wife is about as deep as a mud puddle. I saw this sneak preview for free and certainly felt I got my money's worth.\",\n",
        "           \"I was at Wrestlemania VI in Toronto as a 10 year old, and the event I saw then was pretty different from what I saw on the Wrestlemania Collection DVD I just watched. I don't understand how the wwE doesn't have the rights to some of the old music, since most of those songs were created by the WWF they shouldn't have to worry about the licensing and royalty fees that prevent shows like SNL from releasing season sets. Its pretty stupid to whine about, but for me hearing Demolition come out to their theme music at a Wrestlemania in person was a memory that I never forgot, and it didn't exist on this DVD. What is the point of them even owning the rights to this huge library of video if they have to edit it so drastically to use it?\",\n",
        "           \"Wow! What a movie if you want to blow your budget on the title and have it look real bad ask the guys that made this movie on how to do that. They could have spent the money on a good rewrite or something else. Or they could have spent it on beer when they made this movie at least it would have come out better.\"\n",
        "          ]"
      ],
      "execution_count": 0,
      "outputs": []
    },
    {
      "metadata": {
        "id": "hXVqU2CyWlZW",
        "colab_type": "text"
      },
      "cell_type": "markdown",
      "source": [
        "Reviews must be preprocessed"
      ]
    },
    {
      "metadata": {
        "id": "SE6FxdNZWlZX",
        "colab_type": "code",
        "colab": {
          "autoexec": {
            "startup": false,
            "wait_interval": 0
          },
          "base_uri": "https://localhost:8080/",
          "height": 51
        },
        "outputId": "b94fe49f-877d-4f41-c957-134656380483",
        "executionInfo": {
          "status": "ok",
          "timestamp": 1531953488835,
          "user_tz": 300,
          "elapsed": 1177,
          "user": {
            "displayName": "Juan Carlos Eraso",
            "photoUrl": "//lh3.googleusercontent.com/-S-vF252lc_w/AAAAAAAAAAI/AAAAAAAAAAs/o83TlZr9iPQ/s50-c-k-no/photo.jpg",
            "userId": "114375146705102855436"
          }
        }
      },
      "cell_type": "code",
      "source": [
        "from keras.datasets.imdb import get_word_index\n",
        "\n",
        "vocab = get_word_index()\n",
        "\n",
        "vocab = {k:(v+index_from) for k,v in vocab.items()}\n",
        "vocab[\"<PAD>\"] = 0\n",
        "vocab[\"<START>\"] = 1\n",
        "vocab[\"<UNK>\"] = 2"
      ],
      "execution_count": 14,
      "outputs": [
        {
          "output_type": "stream",
          "text": [
            "Downloading data from https://s3.amazonaws.com/text-datasets/imdb_word_index.json\n",
            "1646592/1641221 [==============================] - 1s 0us/step\n"
          ],
          "name": "stdout"
        }
      ]
    },
    {
      "metadata": {
        "id": "tCmkqqKHWlZZ",
        "colab_type": "code",
        "colab": {
          "autoexec": {
            "startup": false,
            "wait_interval": 0
          },
          "base_uri": "https://localhost:8080/",
          "height": 187
        },
        "outputId": "abbdf094-7dfb-47f5-b4ee-615e8f2a64ec",
        "executionInfo": {
          "status": "ok",
          "timestamp": 1531953539170,
          "user_tz": 300,
          "elapsed": 418,
          "user": {
            "displayName": "Juan Carlos Eraso",
            "photoUrl": "//lh3.googleusercontent.com/-S-vF252lc_w/AAAAAAAAAAI/AAAAAAAAAAs/o83TlZr9iPQ/s50-c-k-no/photo.jpg",
            "userId": "114375146705102855436"
          }
        }
      },
      "cell_type": "code",
      "source": [
        "{k:vocab[k] for k in list(vocab.keys())[:10]}"
      ],
      "execution_count": 16,
      "outputs": [
        {
          "output_type": "execute_result",
          "data": {
            "text/plain": [
              "{'fawn': 34704,\n",
              " 'hanging': 2348,\n",
              " 'nunnery': 52010,\n",
              " 'sonja': 16819,\n",
              " 'spiders': 16118,\n",
              " 'trawling': 52011,\n",
              " 'tsukino': 52009,\n",
              " 'vani': 63954,\n",
              " 'woods': 1411,\n",
              " 'woody': 2292}"
            ]
          },
          "metadata": {
            "tags": []
          },
          "execution_count": 16
        }
      ]
    },
    {
      "metadata": {
        "id": "13LethyQWlZe",
        "colab_type": "text"
      },
      "cell_type": "markdown",
      "source": [
        " Lets see how X_train is encoded"
      ]
    },
    {
      "metadata": {
        "id": "mxPqmKZvWlZf",
        "colab_type": "code",
        "colab": {
          "autoexec": {
            "startup": false,
            "wait_interval": 0
          },
          "base_uri": "https://localhost:8080/",
          "height": 799
        },
        "outputId": "3012ea98-edbb-4270-c369-c6db6947f52b",
        "executionInfo": {
          "status": "ok",
          "timestamp": 1531954459638,
          "user_tz": 300,
          "elapsed": 353,
          "user": {
            "displayName": "Juan Carlos Eraso",
            "photoUrl": "//lh3.googleusercontent.com/-S-vF252lc_w/AAAAAAAAAAI/AAAAAAAAAAs/o83TlZr9iPQ/s50-c-k-no/photo.jpg",
            "userId": "114375146705102855436"
          }
        }
      },
      "cell_type": "code",
      "source": [
        "# truncate and pad input sequences\n",
        "\n",
        "X_train_pad[0]"
      ],
      "execution_count": 33,
      "outputs": [
        {
          "output_type": "execute_result",
          "data": {
            "text/plain": [
              "array([   0,    0,    0,    0,    0,    0,    0,    0,    0,    0,    0,\n",
              "          0,    0,    0,    0,    0,    0,    0,    0,    0,    0,    0,\n",
              "          0,    0,    0,    0,    0,    0,    0,    0,    0,    0,    0,\n",
              "          0,    0,    0,    0,    0,    0,    0,    0,    0,    0,    0,\n",
              "          0,    0,    0,    0,    0,    0,    0,    0,    0,    0,    0,\n",
              "          0,    0,    0,    0,    0,    0,    0,    0,    0,    0,    0,\n",
              "          0,    0,    0,    0,    0,    0,    0,    0,    0,    0,    0,\n",
              "          0,    0,    0,    0,    0,    0,    0,    0,    0,    0,    0,\n",
              "          0,    0,    0,    0,    0,    0,    0,    0,    0,    0,    0,\n",
              "          0,    0,    0,    0,    0,    0,    0,    0,    0,    0,    0,\n",
              "          0,    0,    0,    0,    0,    0,    0,    0,    0,    0,    0,\n",
              "          0,    0,    0,    0,    0,    0,    0,    0,    0,    0,    0,\n",
              "          0,    0,    0,    0,    0,    0,    0,    0,    0,    0,    0,\n",
              "          0,    0,    0,    0,    0,    0,    0,    0,    0,    0,    0,\n",
              "          0,    0,    0,    0,    0,    0,    0,    0,    0,    0,    0,\n",
              "          0,    0,    0,    0,    0,    0,    0,    0,    0,    0,    0,\n",
              "          0,    0,    0,    0,    0,    0,    0,    0,    0,    0,    0,\n",
              "          0,    0,    0,    0,    0,    0,    0,    0,    0,    0,    0,\n",
              "          0,    0,    0,    0,    0,    0,    0,    0,    0,    0,    0,\n",
              "          0,    0,    0,    0,    0,    0,    0,    0,    0,    0,    0,\n",
              "          0,    0,    0,    0,    0,    0,    0,    0,    0,    0,    0,\n",
              "          0,    0,    0,    0,    0,    0,    0,    0,    0,    0,    0,\n",
              "          0,    0,    0,    0,    0,    0,    0,    0,    0,    0,    0,\n",
              "          0,    0,    0,    0,    0,    0,    0,    0,    0,    0,    0,\n",
              "          0,    0,    0,    0,    0,    0,    0,    0,    0,    0,    0,\n",
              "          0,    0,    0,    0,    0,    0,    0,    1,   14,   22,   16,\n",
              "         43,  530,  973, 1622, 1385,   65,  458, 4468,   66, 3941,    4,\n",
              "        173,   36,  256,    5,   25,  100,   43,  838,  112,   50,  670,\n",
              "          2,    9,   35,  480,  284,    5,  150,    4,  172,  112,  167,\n",
              "          2,  336,  385,   39,    4,  172, 4536, 1111,   17,  546,   38,\n",
              "         13,  447,    4,  192,   50,   16,    6,  147, 2025,   19,   14,\n",
              "         22,    4, 1920, 4613,  469,    4,   22,   71,   87,   12,   16,\n",
              "         43,  530,   38,   76,   15,   13, 1247,    4,   22,   17,  515,\n",
              "         17,   12,   16,  626,   18,    2,    5,   62,  386,   12,    8,\n",
              "        316,    8,  106,    5,    4, 2223,    2,   16,  480,   66, 3785,\n",
              "         33,    4,  130,   12,   16,   38,  619,    5,   25,  124,   51,\n",
              "         36,  135,   48,   25, 1415,   33,    6,   22,   12,  215,   28,\n",
              "         77,   52,    5,   14,  407,   16,   82,    2,    8,    4,  107,\n",
              "        117,    2,   15,  256,    4,    2,    7, 3766,    5,  723,   36,\n",
              "         71,   43,  530,  476,   26,  400,  317,   46,    7,    4,    2,\n",
              "       1029,   13,  104,   88,    4,  381,   15,  297,   98,   32, 2071,\n",
              "         56,   26,  141,    6,  194,    2,   18,    4,  226,   22,   21,\n",
              "        134,  476,   26,  480,    5,  144,   30,    2,   18,   51,   36,\n",
              "         28,  224,   92,   25,  104,    4,  226,   65,   16,   38, 1334,\n",
              "         88,   12,   16,  283,    5,   16, 4472,  113,  103,   32,   15,\n",
              "         16,    2,   19,  178,   32], dtype=int32)"
            ]
          },
          "metadata": {
            "tags": []
          },
          "execution_count": 33
        }
      ]
    },
    {
      "metadata": {
        "id": "Xs91LXCQWlZi",
        "colab_type": "code",
        "colab": {
          "autoexec": {
            "startup": false,
            "wait_interval": 0
          },
          "base_uri": "https://localhost:8080/",
          "height": 54
        },
        "outputId": "22ce9bb2-f2b4-44e7-c120-f9391518a05e",
        "executionInfo": {
          "status": "ok",
          "timestamp": 1531954118500,
          "user_tz": 300,
          "elapsed": 449,
          "user": {
            "displayName": "Juan Carlos Eraso",
            "photoUrl": "//lh3.googleusercontent.com/-S-vF252lc_w/AAAAAAAAAAI/AAAAAAAAAAs/o83TlZr9iPQ/s50-c-k-no/photo.jpg",
            "userId": "114375146705102855436"
          }
        }
      },
      "cell_type": "code",
      "source": [
        "print(X_train[0])"
      ],
      "execution_count": 24,
      "outputs": [
        {
          "output_type": "stream",
          "text": [
            "['i', 'was', 'fortunate', 'enough', 'to', 'see', 'this', 'movie', 'on', 'pre', 'release', 'last', 'night', 'and', 'though', 'i', \"wasn't\", 'expecting', 'to', 'actually', 'really', 'enjoyed', 'the', 'movie', 'for', 'the', 'most', 'part', 'the', 'rescues', 'and', 'sea', 'effects', 'were', 'amazing', 'to', 'watch', 'and', 'definitely', 'provided', 'edge', 'of', 'the', 'seat', 'tense', 'moments', 'probably', 'all', 'the', 'more', 'so', 'knowing', 'that', 'there', 'are', 'guys', 'who', 'do', 'this', 'for', 'a', 'living', 'the', 'weaker', 'parts', 'of', 'the', 'movie', 'revolve', 'largely', 'around', 'using', 'stereotypical', 'set', 'scenes', \"i'm\", 'not', 'going', 'to', 'spoil', 'the', 'movie', 'but', 'this', 'really', 'follows', 'along', 'the', 'lines', 'of', 'an', 'officer', 'and', 'a', 'gentleman', 'and', 'those', 'moments', 'give', 'it', 'a', 'little', 'bit', 'of', 'a', 'cheesy', 'aftertaste', 'br', 'br', 'like', 'i', 'said', 'over', 'all', 'this', 'movie', 'is', 'pretty', 'good', 'and', 'worth', 'checking', 'out', 'as', 'long', 'as', 'you', 'can', 'get', 'past', 'the', 'clichés']\n"
          ],
          "name": "stdout"
        }
      ]
    },
    {
      "metadata": {
        "id": "kv4jwH6oWlZk",
        "colab_type": "text"
      },
      "cell_type": "markdown",
      "source": [
        "Lets get the text"
      ]
    },
    {
      "metadata": {
        "id": "RHIhcwpwWlZl",
        "colab_type": "code",
        "colab": {
          "autoexec": {
            "startup": false,
            "wait_interval": 0
          }
        }
      },
      "cell_type": "code",
      "source": [
        "id_to_word = {value:key for key,value in vocab.items()}"
      ],
      "execution_count": 0,
      "outputs": []
    },
    {
      "metadata": {
        "id": "jftMXiqmWlZn",
        "colab_type": "text"
      },
      "cell_type": "markdown",
      "source": [
        "Compared with the original review in lowercase:\n",
        "\n",
        "\"this film was just brilliant casting location scenery story direction everyone's really suited the part they played and you could just imagine being there robert redford's is an amazing actor and now the same being director norman's father came from the same scottish island as myself so i loved the fact there was a real connection with this film the witty remarks throughout the film were great it was just brilliant so much that i bought the film as soon as it was released for retail and would recommend it to everyone to watch and the fly fishing was amazing really cried at the end it was so sad and you know what they say if you cry at a film it must have been good and this definitely was also congratulations to the two little boy's that played the part's of norman and paul they were just brilliant children are often left out of the praising list i think because the stars that play them all grown up are such a big profile for the whole film but these children are amazing and should be praised for what they have done don't you think the whole story was so lovely because it was true and was someone's life after all that was shared with us all\""
      ]
    },
    {
      "metadata": {
        "id": "XYaM0VW5WlZn",
        "colab_type": "code",
        "colab": {
          "autoexec": {
            "startup": false,
            "wait_interval": 0
          }
        }
      },
      "cell_type": "code",
      "source": [
        "y_pred = model.predict_classes(reviews)[:,0]\n",
        "print(y_pred)"
      ],
      "execution_count": 0,
      "outputs": []
    },
    {
      "metadata": {
        "id": "iKEyHoK8lhUX",
        "colab_type": "code",
        "colab": {
          "autoexec": {
            "startup": false,
            "wait_interval": 0
          }
        }
      },
      "cell_type": "code",
      "source": [
        ""
      ],
      "execution_count": 0,
      "outputs": []
    }
  ]
}