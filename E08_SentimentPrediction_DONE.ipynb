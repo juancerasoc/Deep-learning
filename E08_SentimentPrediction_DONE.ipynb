{
  "nbformat": 4,
  "nbformat_minor": 0,
  "metadata": {
    "colab": {
      "name": "E08-SentimentPrediction-DONE.ipynb",
      "version": "0.3.2",
      "views": {},
      "default_view": {},
      "provenance": [],
      "collapsed_sections": []
    },
    "kernelspec": {
      "display_name": "Python 3",
      "language": "python",
      "name": "python3"
    }
  },
  "cells": [
    {
      "metadata": {
        "id": "grLF9zdYubl3",
        "colab_type": "text"
      },
      "cell_type": "markdown",
      "source": [
        "# Exercise 08\n",
        "\n",
        "## DONE BY: JUAN CARLOS ERASO Y CARLOS QUISPE\n",
        "\n",
        "## Analyze how travelers expressed their feelings on Twitter\n",
        "\n",
        "A sentiment analysis job about the problems of each major U.S. airline. \n",
        "Twitter data was scraped from February of 2015 and contributors were \n",
        "asked to first classify positive, negative, and neutral tweets, followed\n",
        "by categorizing negative reasons (such as \"late flight\" or \"rude service\")."
      ]
    },
    {
      "metadata": {
        "id": "HMn6dksMubl5",
        "colab_type": "code",
        "colab": {
          "autoexec": {
            "startup": false,
            "wait_interval": 0
          }
        }
      },
      "cell_type": "code",
      "source": [
        "import pandas as pd\n",
        "import numpy as np\n",
        "\n",
        "%matplotlib inline\n",
        "import matplotlib.pyplot as plt\n",
        "import zipfile\n"
      ],
      "execution_count": 0,
      "outputs": []
    },
    {
      "metadata": {
        "id": "m1wwwGwQToGW",
        "colab_type": "text"
      },
      "cell_type": "markdown",
      "source": [
        "## Run The next Cell if Runing in Jupyter"
      ]
    },
    {
      "metadata": {
        "id": "nL8Ctf2YTKc3",
        "colab_type": "code",
        "colab": {
          "autoexec": {
            "startup": false,
            "wait_interval": 0
          }
        }
      },
      "cell_type": "code",
      "source": [
        "#read the data and set the datetime as the index\n",
        "import zipfile\n",
        "with zipfile.ZipFile('../datasets/Tweets.zip', 'r') as z:\n",
        "    f = z.open('Tweets.csv')\n",
        "    tweets = pd.read_csv(f, index_col=0)\n",
        "\n",
        "tweets.head()"
      ],
      "execution_count": 0,
      "outputs": []
    },
    {
      "metadata": {
        "id": "2aRaa-zATy9Y",
        "colab_type": "text"
      },
      "cell_type": "markdown",
      "source": [
        "## Run The next 2 Cells if Runing in CoLab \n",
        "choose the file with botton while running"
      ]
    },
    {
      "metadata": {
        "id": "aoDwDrm4c8zr",
        "colab_type": "code",
        "colab": {
          "autoexec": {
            "startup": false,
            "wait_interval": 0
          },
          "base_uri": "https://localhost:8080/",
          "height": 72
        },
        "outputId": "27cd1d2a-9cfa-4b43-87f9-d192c7921ad1",
        "executionInfo": {
          "status": "ok",
          "timestamp": 1531935248108,
          "user_tz": 300,
          "elapsed": 43799,
          "user": {
            "displayName": "Juan Carlos Eraso",
            "photoUrl": "//lh3.googleusercontent.com/-S-vF252lc_w/AAAAAAAAAAI/AAAAAAAAAAs/o83TlZr9iPQ/s50-c-k-no/photo.jpg",
            "userId": "114375146705102855436"
          }
        }
      },
      "cell_type": "code",
      "source": [
        "#upload file to CoLab\n",
        "from google.colab import files\n",
        "uploaded = files.upload()"
      ],
      "execution_count": 1,
      "outputs": [
        {
          "output_type": "display_data",
          "data": {
            "text/html": [
              "\n",
              "     <input type=\"file\" id=\"files-8b28bb03-ea43-4d78-ab7b-fce13d71f620\" name=\"files[]\" multiple disabled />\n",
              "     <output id=\"result-8b28bb03-ea43-4d78-ab7b-fce13d71f620\">\n",
              "      Upload widget is only available when the cell has been executed in the\n",
              "      current browser session. Please rerun this cell to enable.\n",
              "      </output>\n",
              "      <script src=\"/nbextensions/google.colab/files.js\"></script> "
            ],
            "text/plain": [
              "<IPython.core.display.HTML object>"
            ]
          },
          "metadata": {
            "tags": []
          }
        },
        {
          "output_type": "stream",
          "text": [
            "Saving Tweets.csv to Tweets.csv\n"
          ],
          "name": "stdout"
        }
      ]
    },
    {
      "metadata": {
        "id": "ohKPy2Ruc8SC",
        "colab_type": "code",
        "colab": {
          "autoexec": {
            "startup": false,
            "wait_interval": 0
          },
          "base_uri": "https://localhost:8080/",
          "height": 445
        },
        "outputId": "a2a41014-d270-4b5a-ef82-d6a916a2bfb3",
        "executionInfo": {
          "status": "ok",
          "timestamp": 1531935305399,
          "user_tz": 300,
          "elapsed": 403,
          "user": {
            "displayName": "Juan Carlos Eraso",
            "photoUrl": "//lh3.googleusercontent.com/-S-vF252lc_w/AAAAAAAAAAI/AAAAAAAAAAs/o83TlZr9iPQ/s50-c-k-no/photo.jpg",
            "userId": "114375146705102855436"
          }
        }
      },
      "cell_type": "code",
      "source": [
        "import io\n",
        "\n",
        "#READ in CoLab\n",
        "tweets = pd.read_csv(io.StringIO(uploaded['Tweets.csv'].decode('utf-8')))\n",
        "tweets.head()"
      ],
      "execution_count": 6,
      "outputs": [
        {
          "output_type": "execute_result",
          "data": {
            "text/html": [
              "<div>\n",
              "<style scoped>\n",
              "    .dataframe tbody tr th:only-of-type {\n",
              "        vertical-align: middle;\n",
              "    }\n",
              "\n",
              "    .dataframe tbody tr th {\n",
              "        vertical-align: top;\n",
              "    }\n",
              "\n",
              "    .dataframe thead th {\n",
              "        text-align: right;\n",
              "    }\n",
              "</style>\n",
              "<table border=\"1\" class=\"dataframe\">\n",
              "  <thead>\n",
              "    <tr style=\"text-align: right;\">\n",
              "      <th></th>\n",
              "      <th>tweet_id</th>\n",
              "      <th>airline_sentiment</th>\n",
              "      <th>airline_sentiment_confidence</th>\n",
              "      <th>negativereason</th>\n",
              "      <th>negativereason_confidence</th>\n",
              "      <th>airline</th>\n",
              "      <th>airline_sentiment_gold</th>\n",
              "      <th>name</th>\n",
              "      <th>negativereason_gold</th>\n",
              "      <th>retweet_count</th>\n",
              "      <th>text</th>\n",
              "      <th>tweet_coord</th>\n",
              "      <th>tweet_created</th>\n",
              "      <th>tweet_location</th>\n",
              "      <th>user_timezone</th>\n",
              "    </tr>\n",
              "  </thead>\n",
              "  <tbody>\n",
              "    <tr>\n",
              "      <th>0</th>\n",
              "      <td>570306133677760513</td>\n",
              "      <td>neutral</td>\n",
              "      <td>1.0000</td>\n",
              "      <td>NaN</td>\n",
              "      <td>NaN</td>\n",
              "      <td>Virgin America</td>\n",
              "      <td>NaN</td>\n",
              "      <td>cairdin</td>\n",
              "      <td>NaN</td>\n",
              "      <td>0</td>\n",
              "      <td>@VirginAmerica What @dhepburn said.</td>\n",
              "      <td>NaN</td>\n",
              "      <td>2015-02-24 11:35:52 -0800</td>\n",
              "      <td>NaN</td>\n",
              "      <td>Eastern Time (US &amp; Canada)</td>\n",
              "    </tr>\n",
              "    <tr>\n",
              "      <th>1</th>\n",
              "      <td>570301130888122368</td>\n",
              "      <td>positive</td>\n",
              "      <td>0.3486</td>\n",
              "      <td>NaN</td>\n",
              "      <td>0.0000</td>\n",
              "      <td>Virgin America</td>\n",
              "      <td>NaN</td>\n",
              "      <td>jnardino</td>\n",
              "      <td>NaN</td>\n",
              "      <td>0</td>\n",
              "      <td>@VirginAmerica plus you've added commercials t...</td>\n",
              "      <td>NaN</td>\n",
              "      <td>2015-02-24 11:15:59 -0800</td>\n",
              "      <td>NaN</td>\n",
              "      <td>Pacific Time (US &amp; Canada)</td>\n",
              "    </tr>\n",
              "    <tr>\n",
              "      <th>2</th>\n",
              "      <td>570301083672813571</td>\n",
              "      <td>neutral</td>\n",
              "      <td>0.6837</td>\n",
              "      <td>NaN</td>\n",
              "      <td>NaN</td>\n",
              "      <td>Virgin America</td>\n",
              "      <td>NaN</td>\n",
              "      <td>yvonnalynn</td>\n",
              "      <td>NaN</td>\n",
              "      <td>0</td>\n",
              "      <td>@VirginAmerica I didn't today... Must mean I n...</td>\n",
              "      <td>NaN</td>\n",
              "      <td>2015-02-24 11:15:48 -0800</td>\n",
              "      <td>Lets Play</td>\n",
              "      <td>Central Time (US &amp; Canada)</td>\n",
              "    </tr>\n",
              "    <tr>\n",
              "      <th>3</th>\n",
              "      <td>570301031407624196</td>\n",
              "      <td>negative</td>\n",
              "      <td>1.0000</td>\n",
              "      <td>Bad Flight</td>\n",
              "      <td>0.7033</td>\n",
              "      <td>Virgin America</td>\n",
              "      <td>NaN</td>\n",
              "      <td>jnardino</td>\n",
              "      <td>NaN</td>\n",
              "      <td>0</td>\n",
              "      <td>@VirginAmerica it's really aggressive to blast...</td>\n",
              "      <td>NaN</td>\n",
              "      <td>2015-02-24 11:15:36 -0800</td>\n",
              "      <td>NaN</td>\n",
              "      <td>Pacific Time (US &amp; Canada)</td>\n",
              "    </tr>\n",
              "    <tr>\n",
              "      <th>4</th>\n",
              "      <td>570300817074462722</td>\n",
              "      <td>negative</td>\n",
              "      <td>1.0000</td>\n",
              "      <td>Can't Tell</td>\n",
              "      <td>1.0000</td>\n",
              "      <td>Virgin America</td>\n",
              "      <td>NaN</td>\n",
              "      <td>jnardino</td>\n",
              "      <td>NaN</td>\n",
              "      <td>0</td>\n",
              "      <td>@VirginAmerica and it's a really big bad thing...</td>\n",
              "      <td>NaN</td>\n",
              "      <td>2015-02-24 11:14:45 -0800</td>\n",
              "      <td>NaN</td>\n",
              "      <td>Pacific Time (US &amp; Canada)</td>\n",
              "    </tr>\n",
              "  </tbody>\n",
              "</table>\n",
              "</div>"
            ],
            "text/plain": [
              "             tweet_id airline_sentiment  airline_sentiment_confidence  \\\n",
              "0  570306133677760513           neutral                        1.0000   \n",
              "1  570301130888122368          positive                        0.3486   \n",
              "2  570301083672813571           neutral                        0.6837   \n",
              "3  570301031407624196          negative                        1.0000   \n",
              "4  570300817074462722          negative                        1.0000   \n",
              "\n",
              "  negativereason  negativereason_confidence         airline  \\\n",
              "0            NaN                        NaN  Virgin America   \n",
              "1            NaN                     0.0000  Virgin America   \n",
              "2            NaN                        NaN  Virgin America   \n",
              "3     Bad Flight                     0.7033  Virgin America   \n",
              "4     Can't Tell                     1.0000  Virgin America   \n",
              "\n",
              "  airline_sentiment_gold        name negativereason_gold  retweet_count  \\\n",
              "0                    NaN     cairdin                 NaN              0   \n",
              "1                    NaN    jnardino                 NaN              0   \n",
              "2                    NaN  yvonnalynn                 NaN              0   \n",
              "3                    NaN    jnardino                 NaN              0   \n",
              "4                    NaN    jnardino                 NaN              0   \n",
              "\n",
              "                                                text tweet_coord  \\\n",
              "0                @VirginAmerica What @dhepburn said.         NaN   \n",
              "1  @VirginAmerica plus you've added commercials t...         NaN   \n",
              "2  @VirginAmerica I didn't today... Must mean I n...         NaN   \n",
              "3  @VirginAmerica it's really aggressive to blast...         NaN   \n",
              "4  @VirginAmerica and it's a really big bad thing...         NaN   \n",
              "\n",
              "               tweet_created tweet_location               user_timezone  \n",
              "0  2015-02-24 11:35:52 -0800            NaN  Eastern Time (US & Canada)  \n",
              "1  2015-02-24 11:15:59 -0800            NaN  Pacific Time (US & Canada)  \n",
              "2  2015-02-24 11:15:48 -0800      Lets Play  Central Time (US & Canada)  \n",
              "3  2015-02-24 11:15:36 -0800            NaN  Pacific Time (US & Canada)  \n",
              "4  2015-02-24 11:14:45 -0800            NaN  Pacific Time (US & Canada)  "
            ]
          },
          "metadata": {
            "tags": []
          },
          "execution_count": 6
        }
      ]
    },
    {
      "metadata": {
        "id": "g9v_knfnubl-",
        "colab_type": "code",
        "colab": {
          "autoexec": {
            "startup": false,
            "wait_interval": 0
          },
          "base_uri": "https://localhost:8080/",
          "height": 34
        },
        "outputId": "640c096d-ca1d-4508-9ae9-f2225a399526",
        "executionInfo": {
          "status": "ok",
          "timestamp": 1531935307657,
          "user_tz": 300,
          "elapsed": 387,
          "user": {
            "displayName": "Juan Carlos Eraso",
            "photoUrl": "//lh3.googleusercontent.com/-S-vF252lc_w/AAAAAAAAAAI/AAAAAAAAAAs/o83TlZr9iPQ/s50-c-k-no/photo.jpg",
            "userId": "114375146705102855436"
          }
        }
      },
      "cell_type": "code",
      "source": [
        "tweets.shape"
      ],
      "execution_count": 7,
      "outputs": [
        {
          "output_type": "execute_result",
          "data": {
            "text/plain": [
              "(14640, 15)"
            ]
          },
          "metadata": {
            "tags": []
          },
          "execution_count": 7
        }
      ]
    },
    {
      "metadata": {
        "id": "CasXRzcwubmC",
        "colab_type": "text"
      },
      "cell_type": "markdown",
      "source": [
        "### Proportion of tweets with each sentiment"
      ]
    },
    {
      "metadata": {
        "id": "MWpDZneYubmD",
        "colab_type": "code",
        "colab": {
          "autoexec": {
            "startup": false,
            "wait_interval": 0
          },
          "base_uri": "https://localhost:8080/",
          "height": 85
        },
        "outputId": "e9ee7bf4-fe82-441b-a92c-b432e4022085",
        "executionInfo": {
          "status": "ok",
          "timestamp": 1531935310652,
          "user_tz": 300,
          "elapsed": 429,
          "user": {
            "displayName": "Juan Carlos Eraso",
            "photoUrl": "//lh3.googleusercontent.com/-S-vF252lc_w/AAAAAAAAAAI/AAAAAAAAAAs/o83TlZr9iPQ/s50-c-k-no/photo.jpg",
            "userId": "114375146705102855436"
          }
        }
      },
      "cell_type": "code",
      "source": [
        "tweets['airline_sentiment'].value_counts()"
      ],
      "execution_count": 8,
      "outputs": [
        {
          "output_type": "execute_result",
          "data": {
            "text/plain": [
              "negative    9178\n",
              "neutral     3099\n",
              "positive    2363\n",
              "Name: airline_sentiment, dtype: int64"
            ]
          },
          "metadata": {
            "tags": []
          },
          "execution_count": 8
        }
      ]
    },
    {
      "metadata": {
        "id": "1gSTjJTJubmH",
        "colab_type": "text"
      },
      "cell_type": "markdown",
      "source": [
        "### Proportion of tweets per airline\n"
      ]
    },
    {
      "metadata": {
        "id": "OEqn0QiAubmI",
        "colab_type": "code",
        "colab": {
          "autoexec": {
            "startup": false,
            "wait_interval": 0
          },
          "base_uri": "https://localhost:8080/",
          "height": 136
        },
        "outputId": "277d4866-c8b2-45ed-e8a3-a324d8763cea",
        "executionInfo": {
          "status": "ok",
          "timestamp": 1531935314362,
          "user_tz": 300,
          "elapsed": 397,
          "user": {
            "displayName": "Juan Carlos Eraso",
            "photoUrl": "//lh3.googleusercontent.com/-S-vF252lc_w/AAAAAAAAAAI/AAAAAAAAAAs/o83TlZr9iPQ/s50-c-k-no/photo.jpg",
            "userId": "114375146705102855436"
          }
        }
      },
      "cell_type": "code",
      "source": [
        "tweets['airline'].value_counts()"
      ],
      "execution_count": 9,
      "outputs": [
        {
          "output_type": "execute_result",
          "data": {
            "text/plain": [
              "United            3822\n",
              "US Airways        2913\n",
              "American          2759\n",
              "Southwest         2420\n",
              "Delta             2222\n",
              "Virgin America     504\n",
              "Name: airline, dtype: int64"
            ]
          },
          "metadata": {
            "tags": []
          },
          "execution_count": 9
        }
      ]
    },
    {
      "metadata": {
        "id": "x_f6jZ47ubmL",
        "colab_type": "code",
        "colab": {
          "autoexec": {
            "startup": false,
            "wait_interval": 0
          },
          "base_uri": "https://localhost:8080/",
          "height": 394
        },
        "outputId": "4173e791-0a3e-4490-b664-e54ae4c528ef",
        "executionInfo": {
          "status": "ok",
          "timestamp": 1531935338681,
          "user_tz": 300,
          "elapsed": 449,
          "user": {
            "displayName": "Juan Carlos Eraso",
            "photoUrl": "//lh3.googleusercontent.com/-S-vF252lc_w/AAAAAAAAAAI/AAAAAAAAAAs/o83TlZr9iPQ/s50-c-k-no/photo.jpg",
            "userId": "114375146705102855436"
          }
        }
      },
      "cell_type": "code",
      "source": [
        "pd.Series(tweets[\"airline\"]).value_counts().plot(kind = \"bar\",figsize=(8,6),rot = 0)\n"
      ],
      "execution_count": 12,
      "outputs": [
        {
          "output_type": "execute_result",
          "data": {
            "text/plain": [
              "<matplotlib.axes._subplots.AxesSubplot at 0x7f8d8cb18128>"
            ]
          },
          "metadata": {
            "tags": []
          },
          "execution_count": 12
        },
        {
          "output_type": "display_data",
          "data": {
            "image/png": "[encoded data removed]",
            "text/plain": [
              "<matplotlib.figure.Figure at 0x7f8d8cbbc400>"
            ]
          },
          "metadata": {
            "tags": []
          }
        }
      ]
    },
    {
      "metadata": {
        "id": "SW1SBlgEubmP",
        "colab_type": "code",
        "colab": {
          "autoexec": {
            "startup": false,
            "wait_interval": 0
          },
          "base_uri": "https://localhost:8080/",
          "height": 420
        },
        "outputId": "ab844fb5-76b3-46dd-be03-5bd504e447bb",
        "executionInfo": {
          "status": "ok",
          "timestamp": 1531935341318,
          "user_tz": 300,
          "elapsed": 667,
          "user": {
            "displayName": "Juan Carlos Eraso",
            "photoUrl": "//lh3.googleusercontent.com/-S-vF252lc_w/AAAAAAAAAAI/AAAAAAAAAAs/o83TlZr9iPQ/s50-c-k-no/photo.jpg",
            "userId": "114375146705102855436"
          }
        }
      },
      "cell_type": "code",
      "source": [
        "pd.crosstab(index = tweets[\"airline\"],columns = tweets[\"airline_sentiment\"]).plot(kind='bar',figsize=(10, 6),alpha=0.5,rot=0,stacked=True,title=\"Sentiment by airline\")"
      ],
      "execution_count": 13,
      "outputs": [
        {
          "output_type": "execute_result",
          "data": {
            "text/plain": [
              "<matplotlib.axes._subplots.AxesSubplot at 0x7f8d8cb0d9e8>"
            ]
          },
          "metadata": {
            "tags": []
          },
          "execution_count": 13
        },
        {
          "output_type": "display_data",
          "data": {
            "image/png": "[encoded data removed]",
            "text/plain": [
              "<matplotlib.figure.Figure at 0x7f8d8cb3cb70>"
            ]
          },
          "metadata": {
            "tags": []
          }
        }
      ]
    },
    {
      "metadata": {
        "id": "-U-RgkXlubmS",
        "colab_type": "text"
      },
      "cell_type": "markdown",
      "source": [
        "# Exercise 8.1 \n",
        "\n",
        "Predict the sentiment using CountVectorizer, stopwords, n_grams, stemmer, TfidfVectorizer\n",
        "\n",
        "use Random Forest classifier"
      ]
    },
    {
      "metadata": {
        "id": "5cp7n7vbubmS",
        "colab_type": "code",
        "colab": {
          "autoexec": {
            "startup": false,
            "wait_interval": 0
          }
        }
      },
      "cell_type": "code",
      "source": [
        "from sklearn.model_selection import train_test_split, cross_val_score\n",
        "from sklearn.feature_extraction.text import CountVectorizer, TfidfVectorizer\n",
        "from sklearn.ensemble import RandomForestClassifier\n",
        "from nltk.stem.snowball import SnowballStemmer\n",
        "from nltk.stem import WordNetLemmatizer"
      ],
      "execution_count": 0,
      "outputs": []
    },
    {
      "metadata": {
        "id": "DKD9lizxubmW",
        "colab_type": "code",
        "colab": {
          "autoexec": {
            "startup": false,
            "wait_interval": 0
          }
        }
      },
      "cell_type": "code",
      "source": [
        "X = tweets['text']\n",
        "y = tweets['airline_sentiment'].map({'negative':-1,'neutral':0,'positive':1})"
      ],
      "execution_count": 0,
      "outputs": []
    },
    {
      "metadata": {
        "id": "_4ni-FviubmY",
        "colab_type": "code",
        "colab": {
          "autoexec": {
            "startup": false,
            "wait_interval": 0
          },
          "base_uri": "https://localhost:8080/",
          "height": 85
        },
        "outputId": "3934f11c-7c3f-40f5-9d9b-5dbb02d8b202",
        "executionInfo": {
          "status": "ok",
          "timestamp": 1531946124881,
          "user_tz": 300,
          "elapsed": 1996,
          "user": {
            "displayName": "Juan Carlos Eraso",
            "photoUrl": "//lh3.googleusercontent.com/-S-vF252lc_w/AAAAAAAAAAI/AAAAAAAAAAs/o83TlZr9iPQ/s50-c-k-no/photo.jpg",
            "userId": "114375146705102855436"
          }
        }
      },
      "cell_type": "code",
      "source": [
        "# define a function that accepts text and returns a list of lemmas\n",
        "import nltk\n",
        "nltk.download('wordnet') #Download package for using in CoLab\n",
        "from nltk.stem import WordNetLemmatizer\n",
        "wordnet_lemmatizer = WordNetLemmatizer()\n",
        "\n",
        "def split_into_lemmas(text):\n",
        "    text = text.lower()\n",
        "    words = text.split()\n",
        "    return [wordnet_lemmatizer.lemmatize(word) for word in words]\n",
        "\n",
        "#Use CountVectorizer to create document-term matrices from X\n",
        "vect = CountVectorizer(lowercase=False,#Does not convert characters to lowercase\n",
        "                      ngram_range=(1, 3), # include n-grams \n",
        "                      stop_words='english',\n",
        "                      max_features=100000,\n",
        "                      analyzer=split_into_lemmas\n",
        "                      )\n",
        "\n",
        "vect_tfv = TfidfVectorizer()\n",
        "\n",
        "\n",
        "X_dtm = vect.fit_transform(X)\n",
        "print(X_dtm.shape)\n",
        "X_tfv = vect_tfv.fit_transform(X)\n",
        "print(X_tfv.shape)"
      ],
      "execution_count": 55,
      "outputs": [
        {
          "output_type": "stream",
          "text": [
            "[nltk_data] Downloading package wordnet to /content/nltk_data...\n",
            "[nltk_data]   Package wordnet is already up-to-date!\n",
            "(14640, 26089)\n",
            "(14640, 15051)\n"
          ],
          "name": "stdout"
        }
      ]
    },
    {
      "metadata": {
        "id": "uNeihnvIKIJ-",
        "colab_type": "code",
        "colab": {
          "autoexec": {
            "startup": false,
            "wait_interval": 0
          },
          "base_uri": "https://localhost:8080/",
          "height": 119
        },
        "outputId": "93c86134-debe-4580-a017-c2dd0db41651",
        "executionInfo": {
          "status": "ok",
          "timestamp": 1531948031979,
          "user_tz": 300,
          "elapsed": 5576,
          "user": {
            "displayName": "Juan Carlos Eraso",
            "photoUrl": "//lh3.googleusercontent.com/-S-vF252lc_w/AAAAAAAAAAI/AAAAAAAAAAs/o83TlZr9iPQ/s50-c-k-no/photo.jpg",
            "userId": "114375146705102855436"
          }
        }
      },
      "cell_type": "code",
      "source": [
        "#RANDOM FOREST CLASSIFICATION 'COUNT VECTORIZER'\n",
        "from sklearn.metrics import accuracy_score\n",
        "\n",
        "X_train, X_test, y_train, y_test = train_test_split(X_dtm, y, test_size=0.3)\n",
        "\n",
        "clf=RandomForestClassifier()\n",
        "clf.fit(X_train,y_train)\n",
        "\n",
        "#print\n",
        "#clf\n",
        "print('COUNT VECTORIZER')\n",
        "print(\"Train Accuracy : \", accuracy_score(y_train, clf.predict(X_train)))\n",
        "print(\"Test Accuracy  : \", accuracy_score(y_test, clf.predict(X_test)))\n",
        "\n",
        "#RANDOM FOREST CLASSIFICATION 'Tfidf VECTORIZER'\n",
        "\n",
        "X_train, X_test, y_train, y_test = train_test_split(X_tfv, y, test_size=0.3)\n",
        "\n",
        "clf=RandomForestClassifier()\n",
        "clf.fit(X_train,y_train)\n",
        "\n",
        "#print\n",
        "#clf\n",
        "print('Tfidf VECTORIZER')\n",
        "print(\"Train Accuracy : \", accuracy_score(y_train, clf.predict(X_train)))\n",
        "print(\"Test Accuracy  : \", accuracy_score(y_test, clf.predict(X_test)))\n",
        "\n"
      ],
      "execution_count": 83,
      "outputs": [
        {
          "output_type": "stream",
          "text": [
            "COUNT VECTORIZER\n",
            "Train Accuracy :  0.9837041373926619\n",
            "Test Accuracy  :  0.7288251366120219\n",
            "Tfidf VECTORIZER\n",
            "Train Accuracy :  0.9794106167056986\n",
            "Test Accuracy  :  0.7340619307832422\n"
          ],
          "name": "stdout"
        }
      ]
    },
    {
      "metadata": {
        "id": "zBc4UP_rubmb",
        "colab_type": "text"
      },
      "cell_type": "markdown",
      "source": [
        "# Exercise 8.2\n",
        "\n",
        "Train a Deep Neural Network with the following architecture:\n",
        "\n",
        "- Input = text \n",
        "- Dense(128)\n",
        "- Relu Activation\n",
        "- BatchNormalization\n",
        "- Dropout(0.5)\n",
        "- Dense(10, Softmax)\n",
        "\n",
        "Optimized using rmsprop using as loss categorical_crossentropy\n",
        "\n",
        "Hints: \n",
        "- test with two iterations then try more. \n",
        "- learning can be ajusted\n",
        "\n",
        "Evaluate the performance using the testing set (aprox 55% with 50 epochs)"
      ]
    },
    {
      "metadata": {
        "id": "joUDQBAiubmb",
        "colab_type": "code",
        "colab": {
          "autoexec": {
            "startup": false,
            "wait_interval": 0
          },
          "base_uri": "https://localhost:8080/",
          "height": 34
        },
        "outputId": "9b84b378-9425-42fe-bf73-721b9e12361f",
        "executionInfo": {
          "status": "ok",
          "timestamp": 1531950749981,
          "user_tz": 300,
          "elapsed": 457,
          "user": {
            "displayName": "Juan Carlos Eraso",
            "photoUrl": "//lh3.googleusercontent.com/-S-vF252lc_w/AAAAAAAAAAI/AAAAAAAAAAs/o83TlZr9iPQ/s50-c-k-no/photo.jpg",
            "userId": "114375146705102855436"
          }
        }
      },
      "cell_type": "code",
      "source": [
        "from keras.models import Sequential\n",
        "from keras.utils import np_utils\n",
        "from keras.layers import Dense, Dropout, Activation, BatchNormalization, Flatten\n",
        "from keras.optimizers import RMSprop\n",
        "#from keras.callbacks import History\n",
        "#from livelossplot import PlotLossesKeras\n",
        "X_train.shape[1:]"
      ],
      "execution_count": 104,
      "outputs": [
        {
          "output_type": "execute_result",
          "data": {
            "text/plain": [
              "(15051,)"
            ]
          },
          "metadata": {
            "tags": []
          },
          "execution_count": 104
        }
      ]
    },
    {
      "metadata": {
        "id": "b3DepeEYubmf",
        "colab_type": "code",
        "colab": {
          "autoexec": {
            "startup": false,
            "wait_interval": 0
          },
          "base_uri": "https://localhost:8080/",
          "height": 340
        },
        "outputId": "aaafc99d-1d35-40ea-a883-21d770b2f02d",
        "executionInfo": {
          "status": "ok",
          "timestamp": 1531950939772,
          "user_tz": 300,
          "elapsed": 411,
          "user": {
            "displayName": "Juan Carlos Eraso",
            "photoUrl": "//lh3.googleusercontent.com/-S-vF252lc_w/AAAAAAAAAAI/AAAAAAAAAAs/o83TlZr9iPQ/s50-c-k-no/photo.jpg",
            "userId": "114375146705102855436"
          }
        }
      },
      "cell_type": "code",
      "source": [
        "model = Sequential()\n",
        "model.add(Dense(128,activation='relu',input_shape=X_train.shape[1:]))\n",
        "model.add(Activation('relu'))\n",
        "model.add(BatchNormalization())\n",
        "model.add(Dropout(0.5))\n",
        "model.add(Dense(10))\n",
        "model.add(Activation('softmax'))\n",
        "model.compile(loss='categorical_crossentropy',optimizer=RMSprop(lr=0.000025),metrics=['accuracy'])\n",
        "model.summary()"
      ],
      "execution_count": 108,
      "outputs": [
        {
          "output_type": "stream",
          "text": [
            "_________________________________________________________________\n",
            "Layer (type)                 Output Shape              Param #   \n",
            "=================================================================\n",
            "dense_35 (Dense)             (None, 128)               1926656   \n",
            "_________________________________________________________________\n",
            "activation_13 (Activation)   (None, 128)               0         \n",
            "_________________________________________________________________\n",
            "batch_normalization_14 (Batc (None, 128)               512       \n",
            "_________________________________________________________________\n",
            "dropout_17 (Dropout)         (None, 128)               0         \n",
            "_________________________________________________________________\n",
            "dense_36 (Dense)             (None, 10)                1290      \n",
            "_________________________________________________________________\n",
            "activation_14 (Activation)   (None, 10)                0         \n",
            "=================================================================\n",
            "Total params: 1,928,458\n",
            "Trainable params: 1,928,202\n",
            "Non-trainable params: 256\n",
            "_________________________________________________________________\n"
          ],
          "name": "stdout"
        }
      ]
    },
    {
      "metadata": {
        "id": "HiaRYsP6Jt1w",
        "colab_type": "code",
        "colab": {
          "autoexec": {
            "startup": false,
            "wait_interval": 0
          }
        }
      },
      "cell_type": "code",
      "source": [
        "#TRAINING 2 EPOCHS\n",
        "model.fit(X_train,y_train, epochs=2,validation_data=(X_test, y_test))\n",
        "\n",
        "#TESTING\n",
        "score = model.evaluate(X_test, y_test)\n",
        "print('Test score:', score[0])\n",
        "print('Test accuracy:', score[1])\n"
      ],
      "execution_count": 0,
      "outputs": []
    },
    {
      "metadata": {
        "id": "EDt-lFgGKgbw",
        "colab_type": "code",
        "colab": {
          "autoexec": {
            "startup": false,
            "wait_interval": 0
          }
        }
      },
      "cell_type": "code",
      "source": [
        "#TRAINING 50 EPOCHS\n",
        "model.fit(X_train,y_train, epochs=50,validation_data=(X_test, y_test))\n",
        "\n",
        "#TESTING\n",
        "score = model.evaluate(X_test, y_test)\n",
        "print('Test score:', score[0])\n",
        "print('Test accuracy:', score[1])\n"
      ],
      "execution_count": 0,
      "outputs": []
    }
  ]
}